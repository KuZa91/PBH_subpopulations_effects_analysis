{
 "cells": [
  {
   "cell_type": "markdown",
   "metadata": {},
   "source": [
    "<h1> Analytic SGWB generator</h1> "
   ]
  },
  {
   "cell_type": "markdown",
   "metadata": {},
   "source": [
    "In the following, we'll implement a notebook that, given a certain volume of sky and some parameters describing a BH population, return the value of the predicted analytical SGWB\n",
    "The probability distribution implemented for the variables of the events, will be taken from [B. P. Abbott T1](https://arxiv.org/abs/1811.12940), [B. P. Abbott T2](https://arxiv.org/abs/2010.14533).\n",
    "First of all, we need to import some modules ! "
   ]
  },
  {
   "cell_type": "code",
   "execution_count": 1,
   "metadata": {},
   "outputs": [],
   "source": [
    "import numpy as np\n",
    "import scipy.special as sc\n",
    "import statistics as st\n",
    "import random\n",
    "import pandas as pd\n",
    "import multiprocessing as mp\n",
    "import scipy.stats as scst\n",
    "from scipy import interpolate\n",
    "from scipy.integrate import quad, simpson\n",
    "from scipy.stats import poisson\n",
    "from multiprocessing import Pool, Manager, Value\n",
    "from functools import partial\n",
    "from LISAhdf5 import LISAhdf5,ParsUnits\n",
    "#%matplotlib inline\n",
    "import matplotlib.pyplot as plt\n",
    "plt.style.use(\"seaborn-v0_8-whitegrid\")"
   ]
  },
  {
   "cell_type": "markdown",
   "metadata": {},
   "source": [
    "<h2> Global Variables of the Simulation </h2>"
   ]
  },
  {
   "cell_type": "markdown",
   "metadata": {},
   "source": [
    "The global variables of the simulation will be set to :"
   ]
  },
  {
   "cell_type": "code",
   "execution_count": 2,
   "metadata": {},
   "outputs": [],
   "source": [
    "# Flags for the execution modes, initialized to false, check the the FLAG selection section for additional informations and initializing them !\n",
    "\n",
    "SOBBH = False\n",
    "SOBBH_Redevol = False\n",
    "\n",
    "# Merger distribution parameters\n",
    "\n",
    "T_obs = 6. # Lisa estimated years of observation\n",
    "efficiency = 0.75 # Lisa effective usefull time percentage for observations\n",
    "max_tc = 10000. # max years of coalescence time for a BBH mergine event\n",
    "frq_min = 3.e-5\n",
    "frq_max = 0.5 # Maximum frequency in hertz to which the LISA detector is sensitive\n",
    "frq_res = 1.e-5 \n",
    "\n",
    "# The total time used to generate the merging events by multipling for the rate of merging will be set to max_tc\n",
    "\n",
    "\n",
    "#General Constants \n",
    "\n",
    "c = 299792.46 # speed of light in Km/sec\n",
    "G = 6.674*(10.**(-11.)) # Gravitational constant in m^3⋅kg^−1⋅s^−2\n",
    "sol_mass = 1.988e30 # Value of the Solar Mass in Kg\n",
    "h = 0.678\n",
    "H_0 = 67.8/(3.086e+19) # Hubble constant in 1/(s)\n",
    "Omega_m = 0.3 # Matter density in our universe\n",
    "Omega_lambda = 0.7 # Cosmological constant density in our universe\n",
    "Omega_k = 0. # Curvature density in our universe\n",
    "rho_c = (3.*(H_0**2.))/(8.*np.pi*G) # Critical density in our universe\n",
    "year = 365.25*24*60*60 # Years in second \n",
    "    \n",
    "# Precision settings for the binned variables\n",
    "\n",
    "n_jobs = 12\n",
    "frq_prec = int((frq_max - frq_min)/frq_res) + 1\n",
    "\n",
    "# Variable specific for the SOBBH case\n",
    "SOBBH_massprec = 600           # Binning density for the masses\n",
    "SOBBH_zprec = 600              # Binning density for the redshift (affect distance density)"
   ]
  },
  {
   "cell_type": "markdown",
   "metadata": {},
   "source": [
    "<h2> FLAG selection section </h2>"
   ]
  },
  {
   "cell_type": "markdown",
   "metadata": {},
   "source": [
    "To begin, we have to decide which types of sources we wish to simulate in our SGWB :"
   ]
  },
  {
   "cell_type": "code",
   "execution_count": 3,
   "metadata": {},
   "outputs": [],
   "source": [
    "SOBBH = True # If true, add the SGWB strain produced by stellar origin binary black hole merging on the strain"
   ]
  },
  {
   "cell_type": "markdown",
   "metadata": {},
   "source": [
    "We may also decide to simulate the catalogue with a redshift evolving merging rate, by setting to true the Red_evol flag:"
   ]
  },
  {
   "cell_type": "code",
   "execution_count": 4,
   "metadata": {},
   "outputs": [],
   "source": [
    "SOBBH_Redevol = True # If true, the merging rate will evolve as a function of redshift, if false it will be assumed constant over the volume"
   ]
  },
  {
   "cell_type": "markdown",
   "metadata": {},
   "source": [
    "<h2> Standard Cosmological Functions </h2>"
   ]
  },
  {
   "cell_type": "markdown",
   "metadata": {},
   "source": [
    "First of all, we'll need a function that allow us to convert from redshift to Gigaparsec :"
   ]
  },
  {
   "cell_type": "code",
   "execution_count": 5,
   "metadata": {},
   "outputs": [],
   "source": [
    "# Just a function to convert from Z to GPC using Hubble Law, in order to obtain the comoving distance\n",
    "\n",
    "def H(z):\n",
    "    return np.sqrt((H_0**2.)*(Omega_m*((1. + z)**3.) + Omega_k*((1. + z)**2.) + Omega_lambda))\n",
    "\n",
    "def Z_to_Gpc(z):\n",
    "    \n",
    "    # Remove the commented part to use a linear approximation of the Hubble law for low z \n",
    "    \n",
    "    #if(zmax <= 0.5):\n",
    "    #    return ((z*c*(10**(-3)))/(H_0)) # only valid for z < 0.5\n",
    "    #else:\n",
    "        \n",
    "        Int_Z = 0.\n",
    "        span_z = np.linspace(0.,z,z_prec)\n",
    "        \n",
    "        # Beware, would fail if the span z is created in logarithmic scale !\n",
    "        \n",
    "        for i in range(len(span_z) -1):\n",
    "            mid_z = 0.5*(span_z[i] + span_z[i + 1])\n",
    "            Int_Z += (((span_z[i + 1] -  span_z[i])*c*(10**(-3)))/(H(mid_z)))\n",
    "    \n",
    "        return Int_Z\n",
    "    \n",
    "        "
   ]
  },
  {
   "cell_type": "markdown",
   "metadata": {},
   "source": [
    "we also need a function that estimates the differential comoving volume in function of the redshift :"
   ]
  },
  {
   "cell_type": "code",
   "execution_count": 6,
   "metadata": {},
   "outputs": [],
   "source": [
    "#In the following function, the differential comoving volume in function of the redshift will be estimated as a spherical surface, it need to be integrated over dr to obtain the real volume \n",
    "\n",
    "def DeVC(z, Delta_z):\n",
    "    r = Z_to_Gpc(z)\n",
    "    z_2 = z + 0.5*Delta_z\n",
    "    z_1 = z_2 - Delta_z\n",
    "    Delta_r = Z_to_Gpc(z_2) - Z_to_Gpc(z_1)\n",
    "    return ((4.*np.pi*(r**2.)*Delta_r)/Delta_z)"
   ]
  },
  {
   "cell_type": "markdown",
   "metadata": {},
   "source": [
    "Another recurring parameter for inspiralling events is the Chirp Mass, given the mass of the two events involved in the binary merging :"
   ]
  },
  {
   "cell_type": "code",
   "execution_count": 7,
   "metadata": {},
   "outputs": [],
   "source": [
    "# Function that return the Chirp Mass of a binary merging event\n",
    "\n",
    "def ChirpMass(m1,m2): \n",
    "   return ((m1*m2)**(3./5.))/((m1+m2)**(1./5.))"
   ]
  },
  {
   "cell_type": "markdown",
   "metadata": {},
   "source": [
    "and indeed we are gonna need to convert our strain from units of _h_ or _hc_ to units of omega :"
   ]
  },
  {
   "cell_type": "code",
   "execution_count": 8,
   "metadata": {},
   "outputs": [],
   "source": [
    "def h_to_Omega(ran_frq, spectrum):\n",
    "    # ran_frq and spectrum need to have same shape\n",
    "    return ((4*((h*np.pi)**2.)*(ran_frq**3.)*spectrum)/(3.*(H_0**2)))"
   ]
  },
  {
   "cell_type": "code",
   "execution_count": 9,
   "metadata": {},
   "outputs": [],
   "source": [
    "def hc_to_Omega(ran_frq, spectrum):\n",
    "    # ran_frq and spectrum need to have same shape\n",
    "    return ((2*((h*np.pi)**2.)*(ran_frq**2.)*spectrum)/(3.*(H_0**2)))"
   ]
  },
  {
   "cell_type": "markdown",
   "metadata": {},
   "source": [
    "<h2> LISA sensitivity curve </h2>"
   ]
  },
  {
   "cell_type": "markdown",
   "metadata": {},
   "source": [
    "In the following we are going to generate the LISA sensitivity curve, in order to compare our result with the properties of the instrument.\n",
    "The shape of the sensitivity curve in units of S can be defined using the following function :"
   ]
  },
  {
   "cell_type": "code",
   "execution_count": 10,
   "metadata": {},
   "outputs": [],
   "source": [
    "# return the value of the sensitivity curve S_h given the frequency\n",
    "\n",
    "def get_SciRD(freq):\n",
    "    S_2 = 3.6*10.**(-41.) #1/Hz\n",
    "    S_1 = 5.76*(1. + (0.0004/freq)**2.)*10.**(-48.) # 1/(Hz*s^4)\n",
    "    S_R = 1. + (freq/0.025)**2.\n",
    "    S_h = (10./3.)*S_R*((S_1/(2.*np.pi*freq)**4.) + S_2)\n",
    "    return S_h"
   ]
  },
  {
   "cell_type": "markdown",
   "metadata": {},
   "source": [
    "<h2> SOBBH SGWB </h2>"
   ]
  },
  {
   "cell_type": "markdown",
   "metadata": {},
   "source": [
    "In this section, we are going to initialize all the objects needed to compute the Stellar Origin Binary Black Hole merging SGWB."
   ]
  },
  {
   "cell_type": "markdown",
   "metadata": {},
   "source": [
    "<h3> SOBBH - Characteristic strain functions </h3>"
   ]
  },
  {
   "cell_type": "markdown",
   "metadata": {},
   "source": [
    "The characteristic strain is given by :"
   ]
  },
  {
   "cell_type": "code",
   "execution_count": 11,
   "metadata": {},
   "outputs": [],
   "source": [
    "# Function to estimate the characteristic strain for SOBBHm events\n",
    "\n",
    "if SOBBH :\n",
    "    def SOBBH_hcsqrd(frq, SOBBH_IntFac):\n",
    "        return ((4.*G**(5./3.))/(3.*(np.pi**(1./3.))*(c*10**3)**2))*(frq**(-4./3.))*SOBBH_IntFac\n",
    "            "
   ]
  },
  {
   "cell_type": "markdown",
   "metadata": {},
   "source": [
    "<h3> SOBBH - Mass distribution functions </h3>"
   ]
  },
  {
   "cell_type": "markdown",
   "metadata": {},
   "source": [
    "Let's start by defining the probability distribution in function of the masses.\n",
    "\n",
    "We have :"
   ]
  },
  {
   "cell_type": "code",
   "execution_count": 12,
   "metadata": {},
   "outputs": [],
   "source": [
    "# Power law + Peak Mass Model of the paper arxiv 2010.14533\n",
    "\n",
    "    \n",
    "# Mass Distribution parameters (values taken from the results of arxiv 2111.03634)\n",
    "\n",
    "SOBBH_m = 5.0 # + 0.86 - 1.7  minimum mass allowed by the popolation inference \n",
    "SOBBH_M = 100. # Solar Masses, taken from the prior of the paper as no real higher mass cutoff was estimated !\n",
    "SOBBH_massprec = 500 # Binning density for the masses\n",
    "SOBBH_alpha = 3.5 # + 0.6 - 0.56 Power law index\n",
    "SOBBH_betaq = 1.1 # + 1.7 - 1.3  index for m2 power law in q\n",
    "SOBBH_deltam = 4.9 #+ 3.4 - 3.2  used for the low mass smoothing function, generate peak at delta_m + m_min\n",
    "SOBBH_lambdapeak = 0.038 # + 0.058 - 0.026 Intensity of the gaussian peak\n",
    "SOBBH_mum = 34.0 # + 2.6 - 4.0 Location of the Gaussian peak in Solar Masses\n",
    "SOBBH_sigmam = 5.69 # +4.28 - 4.34 Solar Masses, taken from arxiv 2010.14533 as no additional claim was made on last paper\n",
    "\n",
    "# Defining of the smoothing function for m close to the minimimum mass\n",
    "\n",
    "def SOBBH_MassSmoothing(m, SOBBH_m, SOBBH_deltam):\n",
    "    if(m < SOBBH_m):\n",
    "        return 0.\n",
    "    else:\n",
    "        if(m >= (SOBBH_m + SOBBH_deltam)):\n",
    "            return 1.\n",
    "        else:\n",
    "            factor = np.exp((SOBBH_deltam/(m - SOBBH_m)) + (SOBBH_deltam/(m - SOBBH_m - SOBBH_deltam)))\n",
    "            return 1./(factor + 1.)\n",
    "\n",
    "# Defining a normalized power law distribution function, needed for the final distribution function        \n",
    "\n",
    "def SOBBH_MassPowLaw(m, SOBBH_m, SOBBH_M, SOBBH_alpha, SOBBH_PLnorm):\n",
    "    if(SOBBH_m <= m <= SOBBH_M):\n",
    "        return (1./SOBBH_PLnorm)*(m**(-SOBBH_alpha))\n",
    "    else:\n",
    "        return 0.\n",
    "\n",
    "# Estimating the Phase space of the Power law distribution using trapezoidal integration\n",
    "\n",
    "def SOBBH_PowerLawPS(SOBBH_ranm1, SOBBH_m, SOBBH_M, SOBBH_alpha):\n",
    "    \n",
    "    mid_m = 0.5*(SOBBH_ranm1[1::] + SOBBH_ranm1[:-1:])\n",
    "    \n",
    "    \n",
    "    if min(mid_m) < SOBBH_m:\n",
    "        good_idx = mid_m >= SOBBH_m\n",
    "        mid_m = mid_m[good_idx]\n",
    "    \n",
    "    if max(mid_m) > SOBBH_M:\n",
    "        good_idx = mid_m <= SOBBH_M\n",
    "        mid_m = mid_m[good_idx]\n",
    "        \n",
    "    ris = simpson(np.power(mid_m, (-SOBBH_alpha)), mid_m)\n",
    "\n",
    "    return ris\n",
    "\n",
    "\n",
    "# Defining a Gaussian distribution of the mass, needed for the final distribution function\n",
    "\n",
    "def SOBBH_MassGauss(m, SOBBH_mum, SOBBH_sigmam, SOBBH_GSnorm):\n",
    "    if (SOBBH_m <= m <= SOBBH_M):\n",
    "        return ((1./(SOBBH_sigmam*np.sqrt(2.*np.pi)))*np.exp(-0.5*((m-SOBBH_mum)/SOBBH_sigmam)**2.))*1./SOBBH_GSnorm\n",
    "    else:\n",
    "        return 0.\n",
    "    \n",
    "def SOBBH_GaussPS(SOBBH_ranm1, SOBBH_m, SOBBH_M, SOBBH_mum, SOBBH_sigmam):\n",
    "\n",
    "    mid_m = 0.5*(SOBBH_ranm1[1::] + SOBBH_ranm1[:-1:])\n",
    "    \n",
    "    \n",
    "    if min(mid_m) < SOBBH_m:\n",
    "        good_idx = mid_m >= SOBBH_m\n",
    "        mid_m = mid_m[good_idx]\n",
    "    \n",
    "    if max(mid_m) > SOBBH_M:\n",
    "        good_idx = mid_m <= SOBBH_M\n",
    "        mid_m = mid_m[good_idx]\n",
    "    \n",
    "    ris = simpson((1./(SOBBH_sigmam*np.sqrt(2.*np.pi)))*np.exp(-0.5*((mid_m-SOBBH_mum)/SOBBH_sigmam)**2.), mid_m)\n",
    "    \n",
    "    return ris\n",
    "\n",
    "# Defining the normalization constant for the q dependancy of the total mass distribution\n",
    "\n",
    "def SOBBH_P2PS(SOBBH_ranm2, SOBBH_betaq, SOBBH_m, SOBBH_deltam):\n",
    "\n",
    "    q_norm = np.linspace(0,1,len(SOBBH_ranm2))\n",
    "    mid_m = 0.5*(SOBBH_ranm2[1::] + SOBBH_ranm2[:-1:])\n",
    "    dm = (SOBBH_ranm2[1::] - SOBBH_ranm2[:-1:])\n",
    "\n",
    "    for i in range(len(SOBBH_ranm2) - 1):\n",
    "\n",
    "        q_norm[i] = 0.\n",
    "        \n",
    "        if (SOBBH_m <= mid_m[i] <= SOBBH_M):\n",
    "\n",
    "            for j in range(i + 1):\n",
    "\n",
    "                q_norm[i] += ((mid_m[j]/(mid_m[i]))**(SOBBH_betaq))*dm[j]*SOBBH_MassSmoothing(mid_m[j], SOBBH_m, SOBBH_deltam)\n",
    "        else:\n",
    "            q_norm[i] = 1.\n",
    "        \n",
    "    q_norm[len(SOBBH_ranm2) - 1] = q_norm[len(SOBBH_ranm2) - 2]\n",
    "\n",
    "    return q_norm   \n",
    "\n",
    "\n",
    "# Defining the proper Mass distribution function\n",
    "\n",
    "def SOBBH_MassDistr(m1, m2, SOBBH_m, SOBBH_M, SOBBH_alpha, SOBBH_betaq, SOBBH_deltam, SOBBH_lambdapeak, SOBBH_mum, SOBBH_sigmam, SOBBH_PLnorm, SOBBH_GSnorm, SOBBH_qnorm, SOBBH_MassPS):\n",
    "\n",
    "    if(m1 >= m2 and m1 <= SOBBH_M and m2 <= SOBBH_M):\n",
    "        return ((1. - SOBBH_lambdapeak)*SOBBH_MassPowLaw(m1, SOBBH_m, SOBBH_M, SOBBH_alpha, SOBBH_PLnorm) + \\\n",
    "                SOBBH_lambdapeak*SOBBH_MassGauss(m1, SOBBH_mum, SOBBH_sigmam, SOBBH_GSnorm))*\\\n",
    "                SOBBH_MassSmoothing(m1, SOBBH_m, SOBBH_deltam)*\\\n",
    "                ((m2/m1)**(SOBBH_betaq))*(1./SOBBH_qnorm)*\\\n",
    "                SOBBH_MassSmoothing(m2, SOBBH_m, SOBBH_deltam)*(1./SOBBH_MassPS)\n",
    "    else:\n",
    "        return 0.\n",
    "\n",
    "\n",
    "# Estimating the Phase space for the Model C Mass distribution function using trapezoidal integration\n",
    "\n",
    "def SOBBH_ModCPS(SOBBH_ranm1, SOBBH_ranm2, SOBBH_m, SOBBH_M, SOBBH_alpha, SOBBH_betaq, SOBBH_deltam, SOBBH_lambdapeak, SOBBH_mum, SOBBH_sigmam, SOBBH_PLnorm, SOBBH_GSnorm, SOBBH_qnorm):\n",
    "\n",
    "    mid_m = 0.5*(SOBBH_ranm1[1::] + SOBBH_ranm1[:-1:])\n",
    "    dm = (SOBBH_ranm1[1::] - SOBBH_ranm1[:-1:])\n",
    "    ris = 0.\n",
    "    \n",
    "    if min(mid_m) < SOBBH_m:\n",
    "        good_idx = mid_m >= SOBBH_m\n",
    "        mid_m = mid_m[good_idx]\n",
    "        dm = dm[good_idx]\n",
    "        SOBBH_qnorm = SOBBH_qnorm[good_idx]\n",
    "    \n",
    "    if max(mid_m) > SOBBH_M:\n",
    "        good_idx = mid_m <= SOBBH_M\n",
    "        mid_m = mid_m[good_idx]\n",
    "        dm = dm[good_idx]\n",
    "        SOBBH_qnorm = SOBBH_qnorm[good_idx]\n",
    "\n",
    "    for i in range(len(mid_m)):\n",
    "        for j in range(i + 1):\n",
    "                    q = mid_m[j]/mid_m[i] \n",
    "                    ris +=  dm[i]*dm[j]*\\\n",
    "                    ((1. - SOBBH_lambdapeak)*SOBBH_MassPowLaw(mid_m[i], SOBBH_m, SOBBH_M, SOBBH_alpha, SOBBH_PLnorm)\\\n",
    "                    + SOBBH_lambdapeak*SOBBH_MassGauss(mid_m[i], SOBBH_mum, SOBBH_sigmam, SOBBH_GSnorm))\\\n",
    "                    *SOBBH_MassSmoothing(mid_m[i], SOBBH_m, SOBBH_deltam)*(q**(SOBBH_betaq))\\\n",
    "                    *(1./SOBBH_qnorm[i])*SOBBH_MassSmoothing(mid_m[j], SOBBH_m, SOBBH_deltam)\n",
    "\n",
    "    return ris"
   ]
  },
  {
   "cell_type": "markdown",
   "metadata": {},
   "source": [
    "<h3> SOBBH - Redshift dependent statistic </h3>"
   ]
  },
  {
   "cell_type": "markdown",
   "metadata": {},
   "source": [
    "We may now define, the merging rate as a function of the redshift _z_ as :"
   ]
  },
  {
   "cell_type": "code",
   "execution_count": 13,
   "metadata": {},
   "outputs": [],
   "source": [
    "# Constant merging rate throughout the volume as fitted in the paper arxiv 1811.12940\n",
    "\n",
    "#def R(z):\n",
    "#    return 53.2 # +58.5 - 27.0 Gpc^-3 yr-1 Merger rate density assumed constant over the comoving volume"
   ]
  },
  {
   "cell_type": "code",
   "execution_count": 14,
   "metadata": {},
   "outputs": [],
   "source": [
    "# Function for the merging rate as described in the paper arxiv 2010.14533, the flag Red_evol will decide if adopting a merging rate the evolve with redshift (true) or not (false)\n",
    "\n",
    "if SOBBH :\n",
    "    \n",
    "    SOBBH_z = 1.e-5 # to avoid SNR divergence due to extremely close events\n",
    "    SOBBH_Zlog = 1.0 # max z value generated in log scale\n",
    "    SOBBH_Zlin = 10.0 # max z value generated in lin scale\n",
    "\n",
    "    SOBBH_k = 2.9 # + 1.8 - 1.9  VALID FOR REDSHIFT EVOLVING POWER LAW + PEAK MODEL MASS DISTRIBUTION, total agreement with SFR\n",
    "    SOBBH_CorrRz = (((1. + 0.2)**SOBBH_k)/(1. + ((1. + 0.2)/2.9)**(SOBBH_k + 2.9)))**(-1) # Normalization factor estimated at z = 0.2\n",
    "    \n",
    "    # Defining the value of R0, the 0 index will have the value for redshift evolution merging rate, the 1 index would have the one for constant merging rate\n",
    "\n",
    "    SOBBH_R0 = {}\n",
    "    SOBBH_R0[0] = 28.3/(year*(3.086e+25)**3.)# +14.8 - 10.0 GPC⁻³ yr^⁻¹ Value of the merging rate fitted at z = 0.2\n",
    "    SOBBH_R0[1] = 23.9/(year*(3.086e+25)**3.) # +14.9 - 8.6 m^-3 s^-1 Middle value fitted using a Power Law + Peak mass model and a non evolving merging rate\n",
    "\n",
    "    def SOBBH_R(z):\n",
    "        if(SOBBH_Redevol):\n",
    "            # This merging rate was interpolated by Angelo Ricciardone and Daniel Figueroa based on arxiv 2010.14533 and arxiv 1907.12562\n",
    "            return SOBBH_R0[0]*SOBBH_CorrRz*((1. + z)**SOBBH_k)/(1. + ((1. + z)/2.9)**(SOBBH_k + 2.9))\n",
    "        else:\n",
    "            return SOBBH_R0[1]        \n"
   ]
  },
  {
   "cell_type": "code",
   "execution_count": 16,
   "metadata": {},
   "outputs": [
    {
     "data": {
      "text/plain": [
       "16.74370379785372"
      ]
     },
     "execution_count": 16,
     "metadata": {},
     "output_type": "execute_result"
    }
   ],
   "source": [
    "SOBBH_R(0)*(year*(3.086e+25)**3.)"
   ]
  },
  {
   "cell_type": "markdown",
   "metadata": {},
   "source": [
    "<h3> SOBBH - Number density of events</h3>"
   ]
  },
  {
   "cell_type": "markdown",
   "metadata": {},
   "source": [
    "We may finally define the distribution function for the number of events,in particular let's start with the function that describes the merging rate dependancy on the reference frame time: "
   ]
  },
  {
   "cell_type": "code",
   "execution_count": null,
   "metadata": {},
   "outputs": [],
   "source": [
    "if SOBBH:\n",
    "    def SOBBH_DtrDz(z):\n",
    "        ris = 1./(H_0*(1. + z)*np.sqrt(Omega_m*((1. + z)**3.) + Omega_k*((1. + z)**2.) + Omega_lambda))\n",
    "        return ris\n",
    "        "
   ]
  },
  {
   "cell_type": "markdown",
   "metadata": {},
   "source": [
    "we can now integrate the mass and redshift dependant factor in order to get a constant that will multiply the frequency dependance of the characteristic strain function.\n",
    "After putting together all the integral dependant factors, we just have to integrate :"
   ]
  },
  {
   "cell_type": "code",
   "execution_count": null,
   "metadata": {},
   "outputs": [],
   "source": [
    "if SOBBH :\n",
    "    def SOBBH_IntND(i):\n",
    "        \n",
    "        ris = 0.\n",
    "        \n",
    "        if ((i*10)%len(SOBBH_ranz) == 0) :\n",
    "            print('Percentage of completition : ',(i*100.)/(len(SOBBH_ranz)), '%')\n",
    "                \n",
    "        for j in range(len(SOBBH_ranm1)-1):\n",
    "            for k in range(j + 1):\n",
    "                deltas = (SOBBH_ranz[i + 1] - SOBBH_ranz[i])*(SOBBH_ranm1[j + 1] - SOBBH_ranm1[j])*(SOBBH_ranm2[k + 1] - SOBBH_ranm2[k])\n",
    "                ris += deltas*SOBBH_R(0.5*(SOBBH_ranz[i + 1] + SOBBH_ranz[i]))*\\\n",
    "                            SOBBH_MassDistr(0.5*(SOBBH_ranm1[j + 1] + SOBBH_ranm1[j]), 0.5*(SOBBH_ranm2[k + 1] + SOBBH_ranm2[k]),\\\n",
    "                                           SOBBH_m, SOBBH_M, SOBBH_alpha, SOBBH_betaq, SOBBH_deltam, \\\n",
    "                                           SOBBH_lambdapeak, SOBBH_mum, SOBBH_sigmam, SOBBH_PLnorm, SOBBH_GSnorm, \\\n",
    "                                           SOBBH_qnorm[j], SOBBH_MassPS)*\\\n",
    "                            SOBBH_DtrDz(0.5*(SOBBH_ranz[i + 1] + SOBBH_ranz[i]))*\\\n",
    "                            ((ChirpMass(0.5*(SOBBH_ranm1[j + 1] + SOBBH_ranm1[j]),\\\n",
    "                                        0.5*(SOBBH_ranm2[k + 1] + SOBBH_ranm2[k]))*sol_mass)**(5./3.))\\\n",
    "                            /((1. + 0.5*(SOBBH_ranz[i + 1] + SOBBH_ranz[i]))**(1./3.)) \n",
    "                        \n",
    "        return ris\n",
    "                               \n",
    "                        "
   ]
  },
  {
   "cell_type": "markdown",
   "metadata": {},
   "source": [
    "<h2> Setting of the analyzed phase space </h2>"
   ]
  },
  {
   "cell_type": "markdown",
   "metadata": {},
   "source": [
    "The simulation will be spanned over the following range of variables :"
   ]
  },
  {
   "cell_type": "code",
   "execution_count": null,
   "metadata": {},
   "outputs": [],
   "source": [
    "# Inizialization of the frequency range and spectrum\n",
    "\n",
    "ran_frq = np.linspace(frq_min, frq_max, frq_prec)\n",
    "sensitivity = get_SciRD(ran_frq)\n",
    "spectrum = ran_frq * 0.\n",
    "\n",
    "# Initialization of the mass phase space\n",
    "\n",
    "if SOBBH:\n",
    "    SOBBH_ranm1 = np.logspace(np.log10(SOBBH_m),np.log10(SOBBH_m + 5. - (SOBBH_M - (SOBBH_m + 5))/SOBBH_massprec), int(SOBBH_massprec/10))\n",
    "    SOBBH_ranm1 = np.append(SOBBH_ranm1, np.linspace(SOBBH_m + 5., SOBBH_M,SOBBH_massprec))\n",
    "    SOBBH_ranm2 = SOBBH_ranm1\n",
    "    SOBBH_PLnorm = SOBBH_PowerLawPS(SOBBH_ranm1, SOBBH_m, SOBBH_M, SOBBH_alpha)\n",
    "    SOBBH_GSnorm = SOBBH_GaussPS(SOBBH_ranm1, SOBBH_m, SOBBH_M, SOBBH_mum, SOBBH_sigmam) \n",
    "    app = SOBBH_P2PS(SOBBH_ranm2, SOBBH_betaq, SOBBH_m, SOBBH_deltam)\n",
    "    SOBBH_qnorm = 0.5*(app[1::] + app[:-1:])\n",
    "    SOBBH_MassPS = SOBBH_ModCPS(SOBBH_ranm1, SOBBH_ranm2, SOBBH_m, SOBBH_M, SOBBH_alpha, SOBBH_betaq, SOBBH_deltam, SOBBH_lambdapeak, SOBBH_mum, SOBBH_sigmam, SOBBH_PLnorm, SOBBH_GSnorm, SOBBH_qnorm)\n",
    "\n",
    "# Initialization of the distance phase space, we will use a logarithmic scale up to z = 1 and a linear from 1 to z_max\n",
    "\n",
    "if SOBBH:\n",
    "    SOBBH_ranz = np.logspace(np.log10(SOBBH_z), np.log10(SOBBH_Zlog), int(SOBBH_zprec/10))\n",
    "    SOBBH_ranz = np.append(SOBBH_ranz, np.linspace(SOBBH_Zlog + (SOBBH_ranz[int(SOBBH_zprec/10)-1] - SOBBH_ranz[int(SOBBH_zprec/10)-2]), SOBBH_Zlin, SOBBH_zprec))"
   ]
  },
  {
   "cell_type": "markdown",
   "metadata": {},
   "source": [
    "<h2> Main body of the simulation </h2>"
   ]
  },
  {
   "cell_type": "markdown",
   "metadata": {},
   "source": [
    "We may finally launch the pipeline to generate SGWB spectrum on every frequency bin of the frequency range. \n",
    "First of all we need to estimate the integrated factors given the simulation parameters :"
   ]
  },
  {
   "cell_type": "code",
   "execution_count": null,
   "metadata": {
    "scrolled": true
   },
   "outputs": [],
   "source": [
    "if SOBBH :\n",
    "    \n",
    "    # Summing the SOBBH background contribution\n",
    "    if __name__ == '__main__':                                    \n",
    "        # start the worker processes equals to n_jobs\n",
    "        \n",
    "        pool = Pool(n_jobs)\n",
    "        d_ris = pool.map(SOBBH_IntND, range(len(SOBBH_ranz)-1))\n",
    "        SOBBH_IntFac = np.sum(d_ris)\n",
    "        pool.close()\n",
    "        pool.join()\n",
    "        \n",
    "    #SOBBH_IntFac = 5.76603587363615e-13 # Value estimated on a run with redevol, z_max = 10 and prec 600"
   ]
  },
  {
   "cell_type": "markdown",
   "metadata": {},
   "source": [
    "Let's first print the value in $\\Omega_{gw}$ units for the _SGWB_ in order to compare it with known results from literature, we get :"
   ]
  },
  {
   "cell_type": "code",
   "execution_count": null,
   "metadata": {},
   "outputs": [],
   "source": [
    "print('Value obtained in omega units for the SGWB at 1e-2 Hz ',hc_to_Omega(1e-2,SOBBH_hcsqrd(1e-2, SOBBH_IntFac)))"
   ]
  },
  {
   "cell_type": "code",
   "execution_count": null,
   "metadata": {},
   "outputs": [],
   "source": [
    "old_val = 1.8653859774892955e-12"
   ]
  },
  {
   "cell_type": "markdown",
   "metadata": {},
   "source": [
    "we can now sum the contribution generated by the various components in Omega units, to the SGWB spectrum :"
   ]
  },
  {
   "cell_type": "code",
   "execution_count": null,
   "metadata": {},
   "outputs": [],
   "source": [
    "if SOBBH:\n",
    "    spectrum += hc_to_Omega(ran_frq,SOBBH_hcsqrd(ran_frq, SOBBH_IntFac))"
   ]
  },
  {
   "cell_type": "markdown",
   "metadata": {},
   "source": [
    "<h2> Plotting the results </h2>"
   ]
  },
  {
   "cell_type": "markdown",
   "metadata": {},
   "source": [
    "Given the spectrum in omega units, we can proceed to plot our results.\n",
    "However, let's run this additional script that would increase the font size for the plots :"
   ]
  },
  {
   "cell_type": "code",
   "execution_count": null,
   "metadata": {},
   "outputs": [],
   "source": [
    "%run BigFont.py "
   ]
  },
  {
   "cell_type": "markdown",
   "metadata": {},
   "source": [
    "and the spectrum is as follows : "
   ]
  },
  {
   "cell_type": "code",
   "execution_count": null,
   "metadata": {
    "scrolled": false
   },
   "outputs": [],
   "source": [
    "plt.figure(figsize=(12,8))\n",
    "plt.loglog(ran_frq, spectrum, color = 'navy', label = 'Total Analytical SGWB')\n",
    "plt.loglog(ran_frq, h_to_Omega(ran_frq,sensitivity), color  = 'black', label = 'LISA SciRD sensitivity curve')\n",
    "if SOBBH:\n",
    "    plt.loglog(ran_frq, hc_to_Omega(ran_frq, SOBBH_hcsqrd(ran_frq, SOBBH_IntFac)), color = 'lime', label = 'SOBBH spectrum contribution')\n",
    "plt.xlabel('$Frequency \\; [Hz]$', fontsize = 15 )\n",
    "plt.legend(loc = 2, frameon = True, fancybox = True, shadow = True)\n",
    "plt.ylabel('$Spectrum \\; amplitude \\; [\\Omega]$', fontsize = 15)\n",
    "plt.savefig('GeneratedSGWB.png',dpi=500)"
   ]
  },
  {
   "cell_type": "markdown",
   "metadata": {},
   "source": [
    "<h2> Saving to an NPZ file </h2>"
   ]
  },
  {
   "cell_type": "markdown",
   "metadata": {},
   "source": [
    "To conclude, in order to run with the SGWBinner, we need to save the generated data in an npz file,\n",
    "let's start by defining an adapt name for the generated file :"
   ]
  },
  {
   "cell_type": "code",
   "execution_count": null,
   "metadata": {},
   "outputs": [],
   "source": [
    "# Defining the initial string name\n",
    "\n",
    "d_name = 'AnalSGWB'\n",
    "\n",
    "# Adding informations on the components included on the data\n",
    "\n",
    "if SOBBH:\n",
    "    d_name += 'wSOBBH'"
   ]
  },
  {
   "cell_type": "markdown",
   "metadata": {},
   "source": [
    "we can now save the data with the simple command :"
   ]
  },
  {
   "cell_type": "code",
   "execution_count": null,
   "metadata": {},
   "outputs": [],
   "source": [
    "np.savez(d_name, signal_freq = ran_frq, signal_val = spectrum)\n"
   ]
  }
 ],
 "metadata": {
  "kernelspec": {
   "display_name": "Python 3 (ipykernel)",
   "language": "python",
   "name": "python3"
  },
  "language_info": {
   "codemirror_mode": {
    "name": "ipython",
    "version": 3
   },
   "file_extension": ".py",
   "mimetype": "text/x-python",
   "name": "python",
   "nbconvert_exporter": "python",
   "pygments_lexer": "ipython3",
   "version": "3.8.16"
  }
 },
 "nbformat": 4,
 "nbformat_minor": 2
}
