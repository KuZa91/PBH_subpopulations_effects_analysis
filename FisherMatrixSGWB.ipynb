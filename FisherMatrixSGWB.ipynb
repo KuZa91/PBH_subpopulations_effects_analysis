{
 "cells": [
  {
   "cell_type": "markdown",
   "metadata": {},
   "source": [
    "<h1> Fisher matrix SGWB </h1> "
   ]
  },
  {
   "cell_type": "markdown",
   "metadata": {},
   "source": [
    "In the following, we'll implement a notebook that will estimate the Fisher Matrix for a parametrization of the SGWB.\n",
    "Let's start by importing some modules :"
   ]
  },
  {
   "cell_type": "code",
   "execution_count": 1,
   "metadata": {},
   "outputs": [],
   "source": [
    "import numpy as np\n",
    "import scipy.special as sc\n",
    "import statistics as st\n",
    "import random\n",
    "import pandas as pd\n",
    "import multiprocessing as mp\n",
    "import scipy.stats as scst\n",
    "from scipy import interpolate\n",
    "from scipy.integrate import quad\n",
    "from scipy.stats import poisson\n",
    "from scipy.special import gamma, hyp1f1\n",
    "from multiprocessing import Pool, Manager, Value\n",
    "from functools import partial\n",
    "from LISAhdf5 import LISAhdf5,ParsUnits\n",
    "#%matplotlib inline\n",
    "import matplotlib.pyplot as plt\n",
    "plt.style.use('seaborn-whitegrid')"
   ]
  },
  {
   "cell_type": "markdown",
   "metadata": {},
   "source": [
    "<h2> Global Variables of the Simulation </h2>"
   ]
  },
  {
   "cell_type": "markdown",
   "metadata": {},
   "source": [
    "The global variables of the simulation will be set to :"
   ]
  },
  {
   "cell_type": "code",
   "execution_count": 2,
   "metadata": {},
   "outputs": [],
   "source": [
    "# Flags for the execution modes, initialized to false, check the the FLAG selection section for additional informations and initializing them !\n",
    "\n",
    "# Signal flags\n",
    "\n",
    "PL2P = False\n",
    "\n",
    "# Noise Flags\n",
    "\n",
    "FixedNoise = False\n",
    "NoiseAmp1P = False\n",
    "\n",
    "\n",
    "# Merger distribution parameters\n",
    "\n",
    "T_obs = 6. # Lisa estimated years of observation\n",
    "efficiency = 0.75 # Lisa effective usefull time percentage for observations\n",
    "max_tc = 10000. # max years of coalescence time for a BBH mergine event\n",
    "frq_min = 3.e-5 # Minimum frequency in hertz to which the LISA detector is sensitive\n",
    "frq_max = 0.5 # Maximum frequency in hertz to which the LISA detector is sensitive\n",
    "\n",
    "\n",
    "# The total time used to generate the merging events by multipling for the rate of merging will be set to max_tc\n",
    "\n",
    "\n",
    "#General Constants \n",
    "\n",
    "c = 299792.46 # speed of light in Km/sec\n",
    "G = 6.674*(10.**(-11.)) # Gravitational constant in m^3⋅kg^−1⋅s^−2\n",
    "sol_mass = 1.988e30 # Value of the Solar Mass in Kg\n",
    "GPc = 3.08567758149137*1e25 # meters\n",
    "h = 0.678\n",
    "H_0 = 67.8/(3.086e+19) # Hubble constant in 1/(s)\n",
    "Omega_m = 0.3 # Matter density in our universe\n",
    "Omega_lambda = 0.7 # Cosmological constant density in our universe\n",
    "Omega_k = 0. # Curvature density in our universe\n",
    "rho_c = (3.*(H_0**2.))/(8.*np.pi*G) # Critical density in our universe\n",
    "year = 365.25*24*60*60 # Years in second \n",
    "    \n",
    "# Precision settings for the binned variables\n",
    "\n",
    "frq_res = 50000\n",
    "\n",
    "# Parameters for the multiprocessing\n",
    "\n",
    "n_jobs = 10\n"
   ]
  },
  {
   "cell_type": "markdown",
   "metadata": {},
   "source": [
    "<h2> FLAG selection section </h2>"
   ]
  },
  {
   "cell_type": "markdown",
   "metadata": {},
   "source": [
    "To begin, we have to decide which types of signal model we wish to simulate in our SGWB :"
   ]
  },
  {
   "cell_type": "code",
   "execution_count": 3,
   "metadata": {},
   "outputs": [],
   "source": [
    "# 2 Parameters model\n",
    "\n",
    "PL2P = True # If true, it will estimate the fisher matrix for a power law where both tilt and amplitude are free parameters"
   ]
  },
  {
   "cell_type": "markdown",
   "metadata": {},
   "source": [
    "in the same way, the flags for the noise model are listed below :"
   ]
  },
  {
   "cell_type": "code",
   "execution_count": 4,
   "metadata": {},
   "outputs": [],
   "source": [
    "# 0 parameters model\n",
    "\n",
    "# FixedNoise = True # If True, the noise will be considered constant and it would not be considered in the Fisher Matrix \n",
    "\n",
    "# 1 Parameters model\n",
    "\n",
    "NoiseAmp1P = True # If True, allow the noise curve to increase or decrease in amplitude as c*Sens(f)"
   ]
  },
  {
   "cell_type": "markdown",
   "metadata": {},
   "source": [
    "<h2> Defining the number of parameters of the model </h2>"
   ]
  },
  {
   "cell_type": "markdown",
   "metadata": {},
   "source": [
    "Each model assumes a different number of free parameters to describe the signal, this will be automatically defined as :"
   ]
  },
  {
   "cell_type": "code",
   "execution_count": 5,
   "metadata": {},
   "outputs": [],
   "source": [
    "if PL2P :\n",
    "   N_SigMParms = 2"
   ]
  },
  {
   "cell_type": "markdown",
   "metadata": {},
   "source": [
    "in the same way, for the noise models we have :"
   ]
  },
  {
   "cell_type": "code",
   "execution_count": 6,
   "metadata": {},
   "outputs": [],
   "source": [
    "if FixedNoise:\n",
    "    N_NoiseMParms = 0\n",
    "\n",
    "if NoiseAmp1P:\n",
    "    N_NoiseMParms = 1"
   ]
  },
  {
   "cell_type": "markdown",
   "metadata": {},
   "source": [
    "The total number of parameters considered in the fisher matrix are hence given by :"
   ]
  },
  {
   "cell_type": "code",
   "execution_count": 7,
   "metadata": {},
   "outputs": [],
   "source": [
    "N_modparms = N_SigMParms + N_NoiseMParms"
   ]
  },
  {
   "cell_type": "markdown",
   "metadata": {},
   "source": [
    "<h2> Standard Cosmological Functions </h2>"
   ]
  },
  {
   "cell_type": "markdown",
   "metadata": {},
   "source": [
    "First of all, we'll need a function that allow us to convert from redshift to Gigaparsec :"
   ]
  },
  {
   "cell_type": "code",
   "execution_count": 8,
   "metadata": {},
   "outputs": [],
   "source": [
    "# Just a function to convert from Z to GPC using Hubble Law, in order to obtain the comoving distance\n",
    "\n",
    "z_max = 1.e5\n",
    "z_prec = 500\n",
    "\n",
    "def H(z):\n",
    "    return np.sqrt((H_0**2.)*(Omega_m*((1. + z)**3.) + Omega_k*((1. + z)**2.) + Omega_lambda))\n",
    "\n",
    "def Z_to_Gpc(z):\n",
    "    \n",
    "    # Remove the commented part to use a linear approximation of the Hubble law for low z \n",
    "    \n",
    "    #if(zmax <= 0.5):\n",
    "    #    return ((z*c*(10**(-3)))/(H_0)) # only valid for z < 0.5\n",
    "    #else:\n",
    "        \n",
    "        Int_Z = 0.\n",
    "        span_z = np.linspace(0.,z,z_prec)\n",
    "        \n",
    "        # Beware, would fail if the span z is created in logarithmic scale !\n",
    "        \n",
    "        for i in range(len(span_z) -1):\n",
    "            mid_z = 0.5*(span_z[i] + span_z[i + 1])\n",
    "            Int_Z += (((span_z[i + 1] -  span_z[i])*c*(10**(-3)))/(H(mid_z)*(3.086e+19)))\n",
    "    \n",
    "        return Int_Z\n",
    "    \n",
    "def Z_to_HubbleTime(z):\n",
    "    \n",
    "    Int_Z = 0.\n",
    "    span_z = np.logspace(np.log10(z),np.log10(z_max),z_prec)\n",
    "        \n",
    "    # Beware, would fail if the span z is created in logarithmic scale !\n",
    "        \n",
    "    for i in range(len(span_z) -1):\n",
    "        mid_z = 0.5*(span_z[i] + span_z[i + 1])\n",
    "        Int_Z += (span_z[i + 1] -  span_z[i])/(H(mid_z)*(1. + mid_z))\n",
    "    \n",
    "    return Int_Z\n",
    "    \n",
    "        "
   ]
  },
  {
   "cell_type": "markdown",
   "metadata": {},
   "source": [
    "we also need a function that estimates the differential comoving volume in function of the redshift :"
   ]
  },
  {
   "cell_type": "code",
   "execution_count": 9,
   "metadata": {},
   "outputs": [],
   "source": [
    "#In the following function, the differential comoving volume in function of the redshift will be estimated as a spherical surface, it need to be integrated over dr to obtain the real volume \n",
    "\n",
    "def DeVC(z, Delta_z):\n",
    "    r = Z_to_Gpc(z)\n",
    "    z_2 = z + 0.5*Delta_z\n",
    "    z_1 = z_2 - Delta_z\n",
    "    Delta_r = Z_to_Gpc(z_2) - Z_to_Gpc(z_1)\n",
    "    return ((4.*np.pi*(r**2.)*Delta_r)/Delta_z)"
   ]
  },
  {
   "cell_type": "markdown",
   "metadata": {},
   "source": [
    "Another recurring parameter for inspiralling events is the Chirp Mass, given the mass of the two events involved in the binary merging :"
   ]
  },
  {
   "cell_type": "code",
   "execution_count": 10,
   "metadata": {},
   "outputs": [],
   "source": [
    "# Function that return the Chirp Mass of a binary merging event\n",
    "\n",
    "def ChirpMass(m1,m2): \n",
    "   return ((m1*m2)**(3./5.))/((m1+m2)**(1./5.))"
   ]
  },
  {
   "cell_type": "markdown",
   "metadata": {},
   "source": [
    "together with the effective spin :"
   ]
  },
  {
   "cell_type": "code",
   "execution_count": 11,
   "metadata": {},
   "outputs": [],
   "source": [
    "#Function that given the spin and spin tilt gives the effective spin\n",
    "\n",
    "def EffectiveSpin(m1, m2, a1, a2, st_a1, st_a2):\n",
    "    res = (m1*a1*cos(st_a1))/(m1 + m2) + (m2*a2*cos(st_a1))/(m1 + m2) # Hope so, better to double check"
   ]
  },
  {
   "cell_type": "markdown",
   "metadata": {},
   "source": [
    "To represent the signal in units of omega, we are gonna need to convert our strain from units of _h_, _hc_, or _Flux_ to units of $\\Omega_{gw}$ :"
   ]
  },
  {
   "cell_type": "code",
   "execution_count": 12,
   "metadata": {},
   "outputs": [],
   "source": [
    "def h_to_Omega(ran_frq, spectrum):\n",
    "    # ran_frq and spectrum need to have same shape\n",
    "    return ((4*((h*np.pi)**2.)*(ran_frq**3.)*spectrum)/(3.*(H_0**2)))"
   ]
  },
  {
   "cell_type": "code",
   "execution_count": 13,
   "metadata": {},
   "outputs": [],
   "source": [
    "def hc_to_Omega(ran_frq, spectrum):\n",
    "    # ran_frq and spectrum need to have same shape\n",
    "    return ((2*((h*np.pi)**2.)*(ran_frq**2.)*spectrum)/(3.*(H_0**2)))"
   ]
  },
  {
   "cell_type": "code",
   "execution_count": 14,
   "metadata": {},
   "outputs": [],
   "source": [
    "def Flux_to_Omega(ran_frq, Flux):\n",
    "    # Flux need to be a constant expressing the whole integrated flux in function of z and m\n",
    "    return ((ran_frq**(2./3.))/(rho_c*(c*1e3)**3))*Flux"
   ]
  },
  {
   "cell_type": "markdown",
   "metadata": {},
   "source": [
    "To conclude, we may define the energy loss during the inspiral phase, the procedure implemented is described in [P. Ajith et al.](https://arxiv.org/abs/0909.2867), even though in the LISA case we can use the assumption that all the waveforms appearing in detector, are in the pre-merger phase.\n",
    "We have :"
   ]
  },
  {
   "cell_type": "markdown",
   "metadata": {},
   "source": [
    "while the total spectrum in Omega given by any BH channel expressed in energy spectral density, can be generally described using :"
   ]
  },
  {
   "cell_type": "code",
   "execution_count": 15,
   "metadata": {},
   "outputs": [],
   "source": [
    "def SpectralDens_to_OmegaGW(freq, F_nu):\n",
    "    res = (freq/(rho_c * c**3))*F_nu"
   ]
  },
  {
   "cell_type": "markdown",
   "metadata": {},
   "source": [
    "<h2> LISA sensitivity curves </h2>"
   ]
  },
  {
   "cell_type": "markdown",
   "metadata": {},
   "source": [
    "In the following we are going to generate the LISA sensitivity curve, in order to compare our result with the properties of the instrument.\n",
    "The shape of the sensitivity curve in units of S can be defined using the following function :"
   ]
  },
  {
   "cell_type": "code",
   "execution_count": 16,
   "metadata": {},
   "outputs": [],
   "source": [
    "# return the value of the sensitivity curve S_h given the frequency\n",
    "\n",
    "def get_SciRD(freq):\n",
    "    S_2 = 3.6*10.**(-41.) #1/Hz\n",
    "    S_1 = 5.76*(1. + (0.0004/freq)**2.)*10.**(-48.) # 1/(Hz*s^4)\n",
    "    S_R = 1. + (freq/0.025)**2.\n",
    "    S_h = (10./3.)*S_R*((S_1/(2.*np.pi*freq)**4.) + S_2)\n",
    "    return S_h"
   ]
  },
  {
   "cell_type": "markdown",
   "metadata": {},
   "source": [
    "in alternative, we can upgrade the LISA sensitivity curve from a file as :"
   ]
  },
  {
   "cell_type": "code",
   "execution_count": 17,
   "metadata": {},
   "outputs": [],
   "source": [
    "df_nm = 'MauroSensitivityCurve.h5'\n",
    "df_key = 'SciRD'\n",
    "Sens_Data = pd.read_hdf(df_nm, df_key)"
   ]
  },
  {
   "cell_type": "markdown",
   "metadata": {},
   "source": [
    "The sensitivity curve can now be constructed by interpolating the imported dataset :"
   ]
  },
  {
   "cell_type": "code",
   "execution_count": 18,
   "metadata": {},
   "outputs": [],
   "source": [
    "Sens_Fit = interpolate.interp1d(Sens_Data['Frequency'], Sens_Data['Sensitivity'])"
   ]
  },
  {
   "cell_type": "markdown",
   "metadata": {},
   "source": [
    "<h2> Signal Model Definitions </h2>"
   ]
  },
  {
   "cell_type": "markdown",
   "metadata": {},
   "source": [
    "In this section we are gonna define the various signal models for which we can compute the Fisher Matrix."
   ]
  },
  {
   "cell_type": "markdown",
   "metadata": {},
   "source": [
    "<h3> 2 Parameters Power Law </h3>"
   ]
  },
  {
   "cell_type": "markdown",
   "metadata": {},
   "source": [
    "In this subsection, we are going to define a 2 parameters Power Law.\n",
    "This can be used to determine the fisher matrix in function of the amplitude, expressed as $10^{\\alpha}$, or for the spin tilt that define the behaviour in function of frequency $f^\\beta$."
   ]
  },
  {
   "cell_type": "code",
   "execution_count": 19,
   "metadata": {},
   "outputs": [],
   "source": [
    "# Return the value of the power law at a given frequency, in function of the two parameters of amplitude alpha and tilt beta\n",
    "\n",
    "if PL2P:\n",
    "    alpha = -12.46310416\n",
    "    beta = 0.47498364\n",
    "    def PL_2P(alpha, beta, f):\n",
    "        return (10**alpha)*((f/np.sqrt(frq_min*frq_max))**beta)"
   ]
  },
  {
   "cell_type": "markdown",
   "metadata": {},
   "source": [
    "To compute the fisher matrix, we also need the first derivatives in function of the parameters.\n",
    "They can be computed analytically as :"
   ]
  },
  {
   "cell_type": "code",
   "execution_count": 20,
   "metadata": {},
   "outputs": [],
   "source": [
    "# Return the first derivatives of the 2 parameters power law in function of the two parameters\n",
    "# Index 1 derives in function of alpha, while index 2 derives in function of beta\n",
    "\n",
    "if PL2P:\n",
    "    def d1_PL2P(index, alpha, beta, f):\n",
    "        if index == 1:\n",
    "            return (10**alpha)*np.log(10)*((f/np.sqrt(frq_min*frq_max))**beta)\n",
    "        elif index == 2:\n",
    "            return (10**alpha)*np.log(f/np.sqrt(frq_min*frq_max))*((f/np.sqrt(frq_min*frq_max))**beta)\n",
    "        else:\n",
    "            print('!Error!, the value of the index passed can be either 1 or 2 !')"
   ]
  },
  {
   "cell_type": "markdown",
   "metadata": {},
   "source": [
    "<h2> Noise Model Definitions </h2>"
   ]
  },
  {
   "cell_type": "markdown",
   "metadata": {},
   "source": [
    "In this section we are gonna define the various noise models for which we can compute the Fisher Matrix."
   ]
  },
  {
   "cell_type": "markdown",
   "metadata": {},
   "source": [
    "<h3> Only amplitude noise curve </h3>"
   ]
  },
  {
   "cell_type": "markdown",
   "metadata": {},
   "source": [
    "In this subsection, we are going to define the noise curve as a 1 parameter dependant model.\n",
    "The considered parameter $C$ would just be a scale factor that would either shrink or increase the amplitude of the standard LISA sensitivity curve, the form of the model is $Noise(f) = C*Sens(f)$.\n",
    "We have :"
   ]
  },
  {
   "cell_type": "code",
   "execution_count": 21,
   "metadata": {},
   "outputs": [],
   "source": [
    "# Return the value of the LISA sensitivity curve multiplied by a scale factor C\n",
    "\n",
    "if NoiseAmp1P:\n",
    "    C = 1.\n",
    "    def OnlyAmp_1P(C, f):\n",
    "        return C*Sens_Fit(f)"
   ]
  },
  {
   "cell_type": "code",
   "execution_count": 22,
   "metadata": {},
   "outputs": [],
   "source": [
    "# Return the first derivative of the 1 parameter only amplitude Noise model, this is simply the value of the LISA sensitivity curve at a given frequency\n",
    "\n",
    "if NoiseAmp1P:\n",
    "    def d1_OnlyAmp_1P(f):\n",
    "        return Sens_Fit(f)"
   ]
  },
  {
   "cell_type": "markdown",
   "metadata": {},
   "source": [
    "<h2> Function to estimate the Fisher Matrix </h2>"
   ]
  },
  {
   "cell_type": "markdown",
   "metadata": {},
   "source": [
    "We will now define a function in order to estimate the Fisher Matrix Entries.\n",
    "The main purpose of this function is to check the various flags of the simulation in order to decide which models need to be used in the estimation of the Fisher Matrix"
   ]
  },
  {
   "cell_type": "markdown",
   "metadata": {},
   "source": [
    "<h2> Setting of the analyzed phase space </h2>"
   ]
  },
  {
   "cell_type": "markdown",
   "metadata": {},
   "source": [
    "The simulation will be spanned over the following range of variables :"
   ]
  },
  {
   "cell_type": "code",
   "execution_count": 23,
   "metadata": {},
   "outputs": [],
   "source": [
    "# Inizialization of the frequency range and spectrum\n",
    "\n",
    "ran_frq = np.linspace(frq_min, frq_max, frq_res)\n",
    "ran_mfrq = (ran_frq[:-1] + ran_frq[1:])*0.5\n",
    "ran_df = (ran_frq[1:] - ran_frq[:-1])\n",
    "Sensitivity = get_SciRD(ran_mfrq)\n"
   ]
  },
  {
   "cell_type": "markdown",
   "metadata": {},
   "source": [
    "<h2> Main body of the simulation </h2>"
   ]
  },
  {
   "cell_type": "markdown",
   "metadata": {},
   "source": [
    "Let's start by initializing the Fisher Matrix and the Data Stream in function of the frequency."
   ]
  },
  {
   "cell_type": "code",
   "execution_count": 24,
   "metadata": {},
   "outputs": [],
   "source": [
    "Fisher_PL2P = np.zeros((N_modparms, N_modparms)) \n",
    "Data = ran_mfrq*0.\n",
    "d1 = {}"
   ]
  },
  {
   "cell_type": "markdown",
   "metadata": {},
   "source": [
    "We can now proceed by first adding the right noise curve to the data stream :"
   ]
  },
  {
   "cell_type": "code",
   "execution_count": 25,
   "metadata": {},
   "outputs": [],
   "source": [
    "#Adding the right noise curve\n",
    "\n",
    "if FixedNoise:\n",
    "    Data += h_to_Omega(ran_mfrq, Sensitivity)\n",
    "    \n",
    "    \n",
    "if NoiseAmp1P:\n",
    "    Data += OnlyAmp_1P(C, ran_mfrq)\n",
    "    d1[N_SigMParms] = d1_OnlyAmp_1P(ran_mfrq)"
   ]
  },
  {
   "cell_type": "markdown",
   "metadata": {},
   "source": [
    "and then adding the choosen signal model to our Data Stream :"
   ]
  },
  {
   "cell_type": "code",
   "execution_count": 26,
   "metadata": {},
   "outputs": [],
   "source": [
    "# Adding the right signal model\n",
    "\n",
    "if PL2P:\n",
    "    Data += PL_2P(alpha, beta, ran_mfrq)\n",
    "    for i in range(N_SigMParms):\n",
    "        d1[i] = d1_PL2P(i + 1, alpha, beta, ran_mfrq)\n",
    "    "
   ]
  },
  {
   "cell_type": "markdown",
   "metadata": {},
   "source": [
    "We may finally estimate the Fisher matrix in function of the given parameters !\n",
    "This can be done as follows :"
   ]
  },
  {
   "cell_type": "code",
   "execution_count": 27,
   "metadata": {
    "scrolled": true
   },
   "outputs": [],
   "source": [
    "# We can fill the values of the Fisher Matrix as :\n",
    "    \n",
    "for i in range(N_modparms):\n",
    "    for j in range(N_modparms):\n",
    "        Fisher_PL2P[i][j] = np.sum(ran_df*T_obs*efficiency*year*d1[i]*d1[j]/(Data**2.))"
   ]
  },
  {
   "cell_type": "markdown",
   "metadata": {},
   "source": [
    "We obtain the following Fisher Matrix for the considered case :"
   ]
  },
  {
   "cell_type": "code",
   "execution_count": 28,
   "metadata": {
    "scrolled": true
   },
   "outputs": [
    {
     "data": {
      "text/plain": [
       "array([[ 1.94392090e+03, -1.38346045e+02,  4.82365178e+04],\n",
       "       [-1.38346045e+02,  8.06469447e+01,  1.98621434e+03],\n",
       "       [ 4.82365178e+04,  1.98621434e+03,  7.09580754e+07]])"
      ]
     },
     "execution_count": 28,
     "metadata": {},
     "output_type": "execute_result"
    }
   ],
   "source": [
    "Fisher_PL2P\n"
   ]
  },
  {
   "cell_type": "code",
   "execution_count": 29,
   "metadata": {},
   "outputs": [],
   "source": [
    "errors = np.zeros((2, 2)) \n",
    "errors[0][0] = abs((Fisher_PL2P[0][0]- 1.92653073e+03)/1.92653073e+03)\n",
    "errors[0][1] = abs((Fisher_PL2P[0][1]+ 1.41936954e+02)/1.41936954e+02)\n",
    "errors[1][0] = errors[0][1]\n",
    "errors[1][1] = abs((Fisher_PL2P[1][1 ] - 8.48442872e+01)/8.48442872e+01)"
   ]
  },
  {
   "cell_type": "code",
   "execution_count": 33,
   "metadata": {},
   "outputs": [
    {
     "data": {
      "text/plain": [
       "array([[0.90266756, 2.52993238],\n",
       "       [2.52993238, 4.94711265]])"
      ]
     },
     "execution_count": 33,
     "metadata": {},
     "output_type": "execute_result"
    }
   ],
   "source": [
    "errors*100"
   ]
  },
  {
   "cell_type": "markdown",
   "metadata": {},
   "source": [
    "<h2> Plotting the results </h2>"
   ]
  },
  {
   "cell_type": "markdown",
   "metadata": {},
   "source": [
    "We can proceed to plot our results!\n",
    "However, let's first run this additional script that would increase the standard font size for the plots :"
   ]
  },
  {
   "cell_type": "code",
   "execution_count": 31,
   "metadata": {},
   "outputs": [],
   "source": [
    "%run BigFont.py "
   ]
  },
  {
   "cell_type": "markdown",
   "metadata": {},
   "source": [
    "First of all, we can compare our sensitivity curve for the model with the standard LISA sensitivity curve SciRD :"
   ]
  },
  {
   "cell_type": "code",
   "execution_count": 32,
   "metadata": {},
   "outputs": [
    {
     "data": {
      "image/png": "[encoded data removed]",
      "text/plain": [
       "<Figure size 864x576 with 1 Axes>"
      ]
     },
     "metadata": {},
     "output_type": "display_data"
    }
   ],
   "source": [
    "plt.figure(figsize=(12,8))\n",
    "plt.loglog(ran_mfrq, h_to_Omega(ran_mfrq, Sensitivity), color  = 'black', label = 'LISA standard SciRD sensitivity curve')\n",
    "plt.loglog(ran_mfrq, Sens_Fit(ran_mfrq), color = 'red', label = 'Imported sensitivity curve')\n",
    "plt.xlabel('$Frequency \\; [Hz]$', fontsize = 15 )\n",
    "plt.legend(loc = 2, frameon = True, fancybox = True, shadow = True)\n",
    "plt.ylabel('$Spectrum \\; amplitude \\; [\\Omega]$', fontsize = 15)\n",
    "plt.savefig('Sensitivity_curves.png',dpi=500)"
   ]
  }
 ],
 "metadata": {
  "kernelspec": {
   "display_name": "Python 3",
   "language": "python",
   "name": "python3"
  },
  "language_info": {
   "codemirror_mode": {
    "name": "ipython",
    "version": 3
   },
   "file_extension": ".py",
   "mimetype": "text/x-python",
   "name": "python",
   "nbconvert_exporter": "python",
   "pygments_lexer": "ipython3",
   "version": "3.8.10"
  }
 },
 "nbformat": 4,
 "nbformat_minor": 2
}
