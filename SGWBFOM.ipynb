{
 "cells": [
  {
   "cell_type": "markdown",
   "metadata": {},
   "source": [
    "<h1> SGWB Figure of Merits</h1> "
   ]
  },
  {
   "cell_type": "markdown",
   "metadata": {},
   "source": [
    "In the following, we'll implement a notebook that, given the required Probability Distribution Functions (PDF) describing a Black Hole population(BH), generates the figure of merit for the predicted analytical Stochastic Gravitational Wave Background(SGWB) in function of the amplitude and redshift range of the merging rate.\n",
    "First of all, we need to import some modules ! "
   ]
  },
  {
   "cell_type": "code",
   "execution_count": 1,
   "metadata": {},
   "outputs": [],
   "source": [
    "import numpy as np\n",
    "import scipy.special as sc\n",
    "import statistics as st\n",
    "import random\n",
    "import os\n",
    "import IPython\n",
    "import pandas as pd\n",
    "import pickle\n",
    "import multiprocessing as mp\n",
    "import scipy.stats as scst\n",
    "from scipy import interpolate\n",
    "from scipy.integrate import quad\n",
    "from scipy.stats import poisson\n",
    "from scipy.special import gamma, hyp1f1\n",
    "from multiprocessing import Pool, Manager, Value\n",
    "from functools import partial\n",
    "from LISAhdf5 import LISAhdf5,ParsUnits\n",
    "#%matplotlib inline\n",
    "import matplotlib.pyplot as plt\n",
    "plt.style.use('seaborn-whitegrid')"
   ]
  },
  {
   "cell_type": "markdown",
   "metadata": {},
   "source": [
    "<h2> Global Variables of the Simulation </h2>"
   ]
  },
  {
   "cell_type": "markdown",
   "metadata": {},
   "source": [
    "The global variables of the simulation will be set to :"
   ]
  },
  {
   "cell_type": "code",
   "execution_count": 2,
   "metadata": {},
   "outputs": [],
   "source": [
    "# Flags for the execution modes, initialized to false, check the the FLAG selection section for additional informations and initializing them !\n",
    "\n",
    "# Flag needed to simulate the standard LIGO SOBBH population\n",
    "\n",
    "SOBBH = False\n",
    "SOBBH_Redevol = False\n",
    "SOBBH_RSpike = False\n",
    "\n",
    "# Flags for different types of PBH mass distribution\n",
    "\n",
    "PBH = False\n",
    "PBH_fRz = False\n",
    "PBH_fRt = False\n",
    "PBH_LogNormal = False\n",
    "PBH_Gaussian = False\n",
    "\n",
    "# Merger distribution parameters\n",
    "\n",
    "T_obs = 4. # Lisa estimated years of observation\n",
    "efficiency = 1. # Lisa effective usefull time percentage for observations\n",
    "max_tc = 10000. # max years of coalescence time for a BBH mergine event\n",
    "frq_min = 3.e-5\n",
    "frq_max = 0.5 # Maximum frequency in hertz to which the LISA detector is sensitive\n",
    "frq_star = 1.e-2 # Value of the choosen frequency at which we estimate the SGWB to compare with other results\n",
    "\n",
    "# The total time used to generate the merging events by multipling for the rate of merging will be set to max_tc\n",
    "\n",
    "\n",
    "#General Constants \n",
    "\n",
    "c = 299792.46 # speed of light in Km/sec\n",
    "G = 6.674*(10.**(-11.)) # Gravitational constant in m^3⋅kg^−1⋅s^−2\n",
    "sol_mass = 1.988e30 # Value of the Solar Mass in Kg\n",
    "MPc = 3.08567758149137*1e22 # meters\n",
    "GPc = MPc*1e3 # meters\n",
    "h = 0.678\n",
    "H_0 = 67.8*1e3/MPc # Hubble constant in 1/(s)\n",
    "Omega_m = 0.3 # Matter density in our universe\n",
    "Omega_lambda = 0.7 # Cosmological constant density in our universe\n",
    "Omega_k = 0. # Curvature density in our universe\n",
    "rho_c = (3.*(H_0**2.))/(8.*np.pi*G) # Critical density in our universe\n",
    "year = 365.25*24*60*60 # Years in second \n",
    "    \n",
    "# Precision settings for the binned variables\n",
    "\n",
    "n_jobs = 10\n",
    "frq_res = 1e-6\n",
    "frq_prec = int((frq_max - frq_min)/frq_res) + 1\n"
   ]
  },
  {
   "cell_type": "markdown",
   "metadata": {},
   "source": [
    "<h2> FLAG selection section </h2>"
   ]
  },
  {
   "cell_type": "markdown",
   "metadata": {},
   "source": [
    "To begin, we have to decide which types of sources we wish to simulate in our SGWB, in order to use the standard _LIGO-Virgo_ fiducial mass function we have to set the _SOBBH_ flag on :"
   ]
  },
  {
   "cell_type": "code",
   "execution_count": 3,
   "metadata": {},
   "outputs": [],
   "source": [
    "#SOBBH = True # If true, add the total SGWB strain produced by stellar origin binary black hole merging on the strain as estimated by LIGO"
   ]
  },
  {
   "cell_type": "markdown",
   "metadata": {},
   "source": [
    "if we wish to simulate PBH perturbations, instead, we have to choose between the two following different mass functions :"
   ]
  },
  {
   "cell_type": "code",
   "execution_count": 4,
   "metadata": {},
   "outputs": [],
   "source": [
    "PBH = True # If true, the FOM will be generated considering a PBH perturbation to the fiducial model"
   ]
  },
  {
   "cell_type": "code",
   "execution_count": 5,
   "metadata": {},
   "outputs": [],
   "source": [
    "#PBH_LogNormal = True# This will simulate the Log Normal mass distribution for PBH described in ariv 2109.05836\n",
    "PBH_Gaussian = True # This will simulate a Gaussian PBH mass distribution, that can be used to generalize a bit the standard monocromatic mass function for PBH"
   ]
  },
  {
   "cell_type": "markdown",
   "metadata": {},
   "source": [
    "We may also decide to simulate the catalogue with a redshift evolving merging rate, by setting to true the Red_evol flag:"
   ]
  },
  {
   "cell_type": "code",
   "execution_count": 6,
   "metadata": {},
   "outputs": [],
   "source": [
    "#SOBBH_Redevol = True # If true, the merging rate will evolve as a function of redshift, if false it will be assumed constant over the volume\n",
    "#SOBBH_RSpike = True # If true, generate a spike of merging rate in a small redshift region, the population will follow the standard SOBBH one"
   ]
  },
  {
   "cell_type": "markdown",
   "metadata": {},
   "source": [
    "In the case of PBH, instead, we are gonna generate the merging rate following a simple power law with $k = 1.4$ as in [V. Atal et al](https://arxiv.org/abs/2201.12218), for what concern the value of $R_0$, we will consider it to be a certain fraction $f$ of the original _SOBBH_ merging rate. This mode can be run by activating the flag _PBH_fRz_:"
   ]
  },
  {
   "cell_type": "code",
   "execution_count": 7,
   "metadata": {},
   "outputs": [],
   "source": [
    "#PBH_fRz = True # If true, the merging rate would assumed to be the simple power law evolution of a fixed k, where the value of R0 would be given as a fraction f of the SOBBH one"
   ]
  },
  {
   "cell_type": "markdown",
   "metadata": {},
   "source": [
    "alternatively, we can describe the evolution with redshift of the merging rate using the model by [S. S. Bavera et al](https://arxiv.org/pdf/2109.05836.pdf), this would describe its evolution as a power law of the _Hubble Time_ at redshift $z$:"
   ]
  },
  {
   "cell_type": "code",
   "execution_count": 8,
   "metadata": {},
   "outputs": [],
   "source": [
    "PBH_fRt = True # If true, the merging rate would assumed to be a powerlaw of the Hubble time at redshift z, where the value of R0 would be given as a fraction f of the SOBBH one "
   ]
  },
  {
   "cell_type": "markdown",
   "metadata": {},
   "source": [
    "Given the sources, we can furthermore decide if we wish to plot their merging rates in function of $z$ :"
   ]
  },
  {
   "cell_type": "code",
   "execution_count": 9,
   "metadata": {},
   "outputs": [],
   "source": [
    "#Plot_Rz = True # If true, generate plots at the end of the simulation"
   ]
  },
  {
   "cell_type": "markdown",
   "metadata": {},
   "source": [
    "<h2> Utility functions </h2>"
   ]
  },
  {
   "cell_type": "markdown",
   "metadata": {},
   "source": [
    "In the following, we are going to define some useful generical functions that will be needed to present the results.\n",
    "We will start with a function that can be used to convert matplotlib contour line to arrays."
   ]
  },
  {
   "cell_type": "code",
   "execution_count": 10,
   "metadata": {},
   "outputs": [],
   "source": [
    "def get_contour_verts(cn):\n",
    "    # Given a set of contour line, save them as a dictionary\n",
    "    contours = []\n",
    "    # for each contour line\n",
    "    for cc in cn.collections:\n",
    "        paths = []\n",
    "        # for each separate section of the contour line\n",
    "        for pp in cc.get_paths():\n",
    "            xy = []\n",
    "            # for each segment of that section\n",
    "            for vv in pp.iter_segments():\n",
    "                xy.append(vv[0])\n",
    "            paths.append(np.vstack(xy))\n",
    "        contours.append(paths)\n",
    "\n",
    "    return contours"
   ]
  },
  {
   "cell_type": "markdown",
   "metadata": {},
   "source": [
    "<h2> Standard Cosmological Functions </h2>"
   ]
  },
  {
   "cell_type": "markdown",
   "metadata": {},
   "source": [
    "First of all, we'll need a function that allow us to convert from redshift to Gigaparsec :"
   ]
  },
  {
   "cell_type": "code",
   "execution_count": 11,
   "metadata": {},
   "outputs": [],
   "source": [
    "# Just a function to convert from Z to GPC using Hubble Law, in order to obtain the comoving distance\n",
    "\n",
    "z_max = 1.e5\n",
    "z_prec = 500\n",
    "\n",
    "def H(z):\n",
    "    return np.sqrt((H_0**2.)*(Omega_m*((1. + z)**3.) + Omega_k*((1. + z)**2.) + Omega_lambda))\n",
    "\n",
    "def Z_to_Gpc(z):\n",
    "    \n",
    "    # Remove the commented part to use a linear approximation of the Hubble law for low z \n",
    "    \n",
    "    #if(zmax <= 0.5):\n",
    "    #    return ((z*c*(10**(-3)))/(H_0)) # only valid for z < 0.5\n",
    "    #else:\n",
    "        \n",
    "        Int_Z = 0.\n",
    "        span_z = np.linspace(0.,z,z_prec)\n",
    "        \n",
    "        # Beware, would fail if the span z is created in logarithmic scale !\n",
    "        \n",
    "        for i in range(len(span_z) -1):\n",
    "            mid_z = 0.5*(span_z[i] + span_z[i + 1])\n",
    "            Int_Z += (((span_z[i + 1] -  span_z[i])*c*(10**(-3)))/(H(mid_z)*(MPc/1.e3)))\n",
    "    \n",
    "        return Int_Z\n",
    "    \n",
    "def Z_to_HubbleTime(z):\n",
    "    \n",
    "    Int_Z = 0.\n",
    "    span_z = np.logspace(np.log10(z),np.log10(z_max),z_prec)\n",
    "        \n",
    "    # Beware, would fail if the span z is created in logarithmic scale !\n",
    "        \n",
    "    for i in range(len(span_z) -1):\n",
    "        mid_z = 0.5*(span_z[i] + span_z[i + 1])\n",
    "        Int_Z += (span_z[i + 1] -  span_z[i])/(H(mid_z)*(1. + mid_z))\n",
    "    \n",
    "    return Int_Z\n",
    "    \n",
    "t_0 = Z_to_HubbleTime(1.e-12) # Can't put 0 as the logarithmic scale would fail        "
   ]
  },
  {
   "cell_type": "markdown",
   "metadata": {},
   "source": [
    "we also need a function that estimates the differential comoving volume in function of the redshift :"
   ]
  },
  {
   "cell_type": "code",
   "execution_count": 12,
   "metadata": {},
   "outputs": [],
   "source": [
    "#In the following function, the differential comoving volume in function of the redshift will be estimated as a spherical surface, it need to be integrated over dr to obtain the real volume \n",
    "\n",
    "def DeVC(z, Delta_z):\n",
    "    r = Z_to_Gpc(z)\n",
    "    z_2 = z + 0.5*Delta_z\n",
    "    z_1 = z_2 - Delta_z\n",
    "    Delta_r = Z_to_Gpc(z_2) - Z_to_Gpc(z_1)\n",
    "    return ((4.*np.pi*(r**2.)*Delta_r)/Delta_z)"
   ]
  },
  {
   "cell_type": "markdown",
   "metadata": {},
   "source": [
    "Another recurring parameter for inspiralling events is the Chirp Mass, given the mass of the two events involved in the binary merging :"
   ]
  },
  {
   "cell_type": "code",
   "execution_count": 13,
   "metadata": {},
   "outputs": [],
   "source": [
    "# Function that return the Chirp Mass of a binary merging event\n",
    "\n",
    "def ChirpMass(m1,m2): \n",
    "   return ((m1*m2)**(3./5.))/((m1+m2)**(1./5.))"
   ]
  },
  {
   "cell_type": "markdown",
   "metadata": {},
   "source": [
    "together with the effective spin :"
   ]
  },
  {
   "cell_type": "code",
   "execution_count": 14,
   "metadata": {},
   "outputs": [],
   "source": [
    "#Function that given the spin and spin tilt gives the effective spin\n",
    "\n",
    "def EffectiveSpin(m1, m2, a1, a2, st_a1, st_a2):\n",
    "    res = (m1*a1*cos(st_a1))/(m1 + m2) + (m2*a2*cos(st_a1))/(m1 + m2) # Hope so, better to double check"
   ]
  },
  {
   "cell_type": "markdown",
   "metadata": {},
   "source": [
    "To represent the signal in units of omega, we are gonna need to convert our strain from units of _h_, _hc_, or _Flux_ to units of $\\Omega_{gw}$ :"
   ]
  },
  {
   "cell_type": "code",
   "execution_count": 15,
   "metadata": {},
   "outputs": [],
   "source": [
    "def h_to_Omega(ran_frq, spectrum):\n",
    "    # ran_frq and spectrum need to have same shape\n",
    "    return ((4*((h*np.pi)**2.)*(ran_frq**3.)*spectrum)/(3.*(H_0**2)))"
   ]
  },
  {
   "cell_type": "code",
   "execution_count": 16,
   "metadata": {},
   "outputs": [],
   "source": [
    "def hc_to_Omega(ran_frq, spectrum):\n",
    "    # ran_frq and spectrum need to have same shape\n",
    "    return ((2*((h*np.pi)**2.)*(ran_frq**2.)*spectrum)/(3.*(H_0**2)))"
   ]
  },
  {
   "cell_type": "code",
   "execution_count": 17,
   "metadata": {},
   "outputs": [],
   "source": [
    "def Flux_to_Omega(ran_frq, Flux):\n",
    "    # Flux need to be a constant expressing the whole integrated flux in function of z and m\n",
    "    return ((ran_frq**(2./3.))/(rho_c*(c*1e3)**3))*Flux"
   ]
  },
  {
   "cell_type": "markdown",
   "metadata": {},
   "source": [
    "To conclude, we may define the energy loss during the inspiral phase, the procedure implemented is described in [P. Ajith et al.](https://arxiv.org/abs/0909.2867), even though in the LISA case we can use the assumption that all the waveforms appearing in detector, are in the pre-merger phase.\n",
    "We have :"
   ]
  },
  {
   "cell_type": "code",
   "execution_count": 18,
   "metadata": {},
   "outputs": [],
   "source": [
    "def dE_dnu(m1, m2, freq, a1 = -1, a2 =-1, st_a1 = -1, st_a2 = -1):\n",
    "    # Compute the energy dispersed during an inspiral phase to a certain post-newtonian order in the pre-merger approximation\n",
    "    # If the 4 parameters describing the spin configuration are not given, would automatically use only the first post-newtonian term\n",
    "    \n",
    "    Ch_M = ChirpMass(m1,m2)\n",
    "    eta = m1*m2/(Ch_M**2)\n",
    "    nu_prime = (np.pi*Ch_M*sol_mass*G*freq/c**3)**(1./3.)\n",
    "    \n",
    "    alpha_2 = -(323/224) + (451/168)*eta\n",
    "    if(a1 == -1 or a2 == -1 or st_a1 == -1 or st_a2 == -1):\n",
    "        alpha_3 = 0\n",
    "    else:\n",
    "        chi_spin = EffectiveSpin(m1, m2, a1, a2, st_a1, st_a2) \n",
    "        alpha_3 = ((27/8) - (11/6)*eta)*chi_spin\n",
    "    f1 = 1 + alpha_2*nu_prime**2 + alpha_3*nu_prime**3\n",
    "    \n",
    "    res = (((G*np.pi)*(Ch_M**(5./3.)))/3)*(freq**(-1./3.))*(f1**2)\n",
    "    \n",
    "    return res\n",
    "    "
   ]
  },
  {
   "cell_type": "markdown",
   "metadata": {},
   "source": [
    "while the total spectrum in Omega given by any BH channel expressed in energy spectral density, can be generally described using :"
   ]
  },
  {
   "cell_type": "code",
   "execution_count": 19,
   "metadata": {},
   "outputs": [],
   "source": [
    "def SpectralDens_to_OmegaGW(freq, F_nu):\n",
    "    res = (freq/(rho_c * c**3))*F_nu"
   ]
  },
  {
   "cell_type": "markdown",
   "metadata": {},
   "source": [
    "<h2> LISA sensitivity curve </h2>"
   ]
  },
  {
   "cell_type": "markdown",
   "metadata": {},
   "source": [
    "In the following we are going to generate the LISA sensitivity curve, in order to compare our result with the properties of the instrument.\n",
    "The shape of the sensitivity curve in units of S can be defined using the following function :"
   ]
  },
  {
   "cell_type": "code",
   "execution_count": 20,
   "metadata": {},
   "outputs": [],
   "source": [
    "# return the value of the sensitivity curve S_h given the frequency\n",
    "\n",
    "def get_SciRD(freq):\n",
    "    S_2 = 3.6*10.**(-41.) #1/Hz\n",
    "    S_1 = 5.76*(1. + (0.0004/freq)**2.)*10.**(-48.) # 1/(Hz*s^4)\n",
    "    S_R = 1. + (freq/0.025)**2.\n",
    "    S_h = (10./3.)*S_R*((S_1/(2.*np.pi*freq)**4.) + S_2)\n",
    "    return S_h"
   ]
  },
  {
   "cell_type": "markdown",
   "metadata": {},
   "source": [
    "<h2> SOBBH LIGO All Channels SGWB </h2>"
   ]
  },
  {
   "cell_type": "markdown",
   "metadata": {},
   "source": [
    "In this section, we are going to initialize all the objects needed to compute the Stellar Origin Binary Black Hole merging(SOBBHm) SGWB.\n",
    "The probability distribution implemented for the variables of the events, will be taken from [B. P. Abbott T1](https://arxiv.org/abs/1811.12940), [B. P. Abbott T2](https://arxiv.org/abs/2010.14533)."
   ]
  },
  {
   "cell_type": "markdown",
   "metadata": {},
   "source": [
    "<h3> SOBBH - Characteristic strain functions </h3>"
   ]
  },
  {
   "cell_type": "markdown",
   "metadata": {},
   "source": [
    "The characteristic strain is given by :"
   ]
  },
  {
   "cell_type": "code",
   "execution_count": 21,
   "metadata": {},
   "outputs": [],
   "source": [
    "# Function to estimate the characteristic strain for SOBBHm events\n",
    "\n",
    "def SOBBH_hcsqrd(frq, SOBBH_IntFac):\n",
    "    return ((4.*G**(5./3.))/(3.*(np.pi**(1./3.))*(c*10**3)**2))*(frq**(-4./3.))*SOBBH_IntFac\n",
    "            "
   ]
  },
  {
   "cell_type": "markdown",
   "metadata": {},
   "source": [
    "<h3> SOBBH - Mass distribution functions </h3>"
   ]
  },
  {
   "cell_type": "markdown",
   "metadata": {},
   "source": [
    "Let's start by defining the probability distribution in function of the masses.\n",
    "\n",
    "We have :"
   ]
  },
  {
   "cell_type": "code",
   "execution_count": 22,
   "metadata": {},
   "outputs": [],
   "source": [
    "# Power law + Peak Mass Model of the paper arxiv 2010.14533\n",
    "\n",
    "if SOBBH :\n",
    "        \n",
    "    # Mass Distribution parameters (values taken from the results of arxiv 2111.03634)\n",
    "\n",
    "    m_min = 2.5 # + 0.67 - 0.44  minimum mass allowed by the popolation inference \n",
    "    m_max = 100. # Solar Masses, taken from the prior of the paper as no real higher mass cutoff was estimated !\n",
    "    SOBBH_massprec = 500 # Binning density for the masses\n",
    "    alpha = 3.4 # + 0.58 - 0.49 Power law index\n",
    "    beta_q = 1.1 # + 1.8 - 1.3  index for m2 power law in q\n",
    "    delta_m = 7.8 #+ 1.9 - 4.0  used for the low mass smoothing function, generate peak at delta_m + m_min\n",
    "    lambda_peak = 0.039 # + 0.058 - 0.026 Intensity of the gaussian peak\n",
    "    mu_m = 34 # + 2.3 - 3.8 Location of the Gaussian peak in Solar Masses\n",
    "    sigma_m = 5.09 # +4.28 - 4.34 Solar Masses, taken from arxiv 2010.14533 as no additional claim was made on last paper\n",
    "\n",
    "    # Defining of the smoothing function for m close to the minimimum mass\n",
    "\n",
    "    def SOBBH_MassSmoothing(m, SOBBH_m, SOBBH_deltam):\n",
    "        if(m < SOBBH_m):\n",
    "            return 0.\n",
    "        else:\n",
    "            if(m >= (SOBBH_m + SOBBH_deltam)):\n",
    "                return 1.\n",
    "            else:\n",
    "                factor = np.exp((SOBBH_deltam/(m - SOBBH_m)) + (SOBBH_deltam/(m - SOBBH_m - SOBBH_deltam)))\n",
    "                return 1./(factor + 1.)\n",
    "\n",
    "    # Defining a normalized power law distribution function, needed for the final distribution function        \n",
    "\n",
    "    def SOBBH_MassPowLaw(m, SOBBH_m, SOBBH_M, SOBBH_alpha, SOBBH_PLnorm):\n",
    "        if(SOBBH_m < m < SOBBH_M):\n",
    "            return (1./SOBBH_PLnorm)*(m**(-SOBBH_alpha))\n",
    "        else:\n",
    "            return 0.\n",
    "\n",
    "    # Estimating the Phase space of the Power law distribution using trapezoidal integration\n",
    "\n",
    "    def SOBBH_PowerLawPS(SOBBH_ranm1, SOBBH_m, SOBBH_M, SOBBH_alpha):\n",
    "\n",
    "        ris = 0.\n",
    "\n",
    "        for i in range(len(SOBBH_ranm1)- 1):\n",
    "           if(SOBBH_ranm1[i] >= SOBBH_m and SOBBH_ranm1[i] <= SOBBH_M):\n",
    "                    mid_m1 = 0.5*(SOBBH_ranm1[i + 1] + SOBBH_ranm1[i])\n",
    "                    ris +=  (SOBBH_ranm1[i + 1] - SOBBH_ranm1[i])*(np.power(mid_m1, (-SOBBH_alpha)))\n",
    "\n",
    "        return ris\n",
    "\n",
    "\n",
    "    # Defining a Gaussian distribution of the mass, needed for the final distribution function\n",
    "\n",
    "    def SOBBH_MassGauss(m, SOBBH_mum, SOBBH_sigmam, SOBBH_GSnorm):\n",
    "        return ((1./(SOBBH_sigmam*np.sqrt(2.*np.pi)))*np.exp(-0.5*((m-SOBBH_mum)/SOBBH_sigmam)**2.))*1./SOBBH_GSnorm\n",
    "\n",
    "    def SOBBH_GaussPS(SOBBH_ranm1, SOBBH_m, SOBBH_M, SOBBH_mum, SOBBH_sigmam):\n",
    "\n",
    "        ris = 0.\n",
    "\n",
    "        for i in range(len(SOBBH_ranm1)- 1):\n",
    "           if(SOBBH_ranm1[i] >= SOBBH_m and SOBBH_ranm1[i] <= SOBBH_M):\n",
    "                    mid_m1 = 0.5*(SOBBH_ranm1[i + 1] + SOBBH_ranm1[i])\n",
    "                    ris +=  (SOBBH_ranm1[i + 1] - SOBBH_ranm1[i])*((1./(SOBBH_sigmam*np.sqrt(2.*np.pi)))\\\n",
    "                            *np.exp(-0.5*((mid_m1-SOBBH_mum)/SOBBH_sigmam)**2.))\n",
    "\n",
    "        return ris\n",
    "\n",
    "\n",
    "    # Defining the normalization constant for the q dependancy of the total mass distribution\n",
    "\n",
    "    def SOBBH_P2PS(SOBBH_ranm2, SOBBH_betaq, SOBBH_m, SOBBH_deltam):\n",
    "\n",
    "        q_norm = np.linspace(0,1,len(SOBBH_ranm2))\n",
    "\n",
    "        for i in range(len(SOBBH_ranm1) - 1):\n",
    "\n",
    "            q_norm[i] = 0.\n",
    "\n",
    "            for j in range(i + 1):\n",
    "\n",
    "                q_norm[i] += ((0.5*(SOBBH_ranm2[j] + SOBBH_ranm2[j + 1])/(0.5*(SOBBH_ranm2[i] + SOBBH_ranm2[i + 1])))\\\n",
    "                             **(SOBBH_betaq))*(SOBBH_ranm2[j + 1] - SOBBH_ranm2[j])*\\\n",
    "                             SOBBH_MassSmoothing(0.5*(SOBBH_ranm2[j] + SOBBH_ranm2[j + 1]), SOBBH_m, SOBBH_deltam)\n",
    "\n",
    "        q_norm[len(SOBBH_ranm1) - 1] = q_norm[len(SOBBH_ranm1) - 2]\n",
    "\n",
    "        return q_norm   \n",
    "\n",
    "\n",
    "    # Defining the proper Mass distribution function\n",
    "\n",
    "    def SOBBH_MassDistr(m1, m2, SOBBH_m, SOBBH_M, SOBBH_alpha, SOBBH_betaq, SOBBH_deltam, SOBBH_lambdapeak, SOBBH_mum, SOBBH_sigmam, SOBBH_PLnorm, SOBBH_GSnorm, SOBBH_qnorm, SOBBH_MassPS):\n",
    "\n",
    "        if(m1 > m2):\n",
    "            return ((1. - SOBBH_lambdapeak)*SOBBH_MassPowLaw(m1, SOBBH_m, SOBBH_M, SOBBH_alpha, SOBBH_PLnorm) + \\\n",
    "                    SOBBH_lambdapeak*SOBBH_MassGauss(m1, SOBBH_mum, SOBBH_sigmam, SOBBH_GSnorm))*\\\n",
    "                    SOBBH_MassSmoothing(m1, SOBBH_m, SOBBH_deltam)*\\\n",
    "                    ((m2/m1)**(SOBBH_betaq))*(1./SOBBH_qnorm)*\\\n",
    "                    SOBBH_MassSmoothing(m2, SOBBH_m, SOBBH_deltam)*(1./SOBBH_MassPS)\n",
    "        else:\n",
    "            return 0.\n",
    "\n",
    "\n",
    "    # Estimating the Phase space for the Model C Mass distribution function using trapezoidal integration\n",
    "\n",
    "    def SOBBH_ModCPS(SOBBH_ranm1, SOBBH_ranm2, SOBBH_m, SOBBH_M, SOBBH_alpha, SOBBH_betaq, SOBBH_deltam, SOBBH_lambdapeak, SOBBH_mum, SOBBH_sigmam, SOBBH_PLnorm, SOBBH_GSnorm, SOBBH_qnorm, SOBBH_MassPS):\n",
    "\n",
    "        ris = 0.\n",
    "\n",
    "        for i in range(len(SOBBH_ranm1)- 1):\n",
    "            for j in range(len(SOBBH_ranm2)- 1):\n",
    "                 if(SOBBH_ranm1[i] >= SOBBH_ranm2[j]):\n",
    "                    mid_m1 = 0.5*(SOBBH_ranm1[i + 1] + SOBBH_ranm1[i])\n",
    "                    mid_m2 = 0.5*(SOBBH_ranm2[j + 1] + SOBBH_ranm2[j])\n",
    "                    q = mid_m2/mid_m1 \n",
    "                    ris +=  (SOBBH_ranm1[i + 1] - SOBBH_ranm1[i])*(SOBBH_ranm2[j + 1] - SOBBH_ranm2[j])*\\\n",
    "                    ((1. - SOBBH_lambdapeak)*SOBBH_MassPowLaw(mid_m1, SOBBH_m, SOBBH_M, SOBBH_alpha, SOBBH_PLnorm)\\\n",
    "                    + SOBBH_lambdapeak*SOBBH_MassGauss(mid_m1, SOBBH_mum, SOBBH_sigmam, SOBBH_GSnorm))\\\n",
    "                    *SOBBH_MassSmoothing(mid_m1, SOBBH_m, SOBBH_deltam)*(q**(SOBBH_betaq))\\\n",
    "                    *(1./SOBBH_qnorm[i])*SOBBH_MassSmoothing(mid_m2, SOBBH_m, SOBBH_deltam)*(1./SOBBH_MassPS)\n",
    "\n",
    "        return ris\n",
    "    "
   ]
  },
  {
   "cell_type": "markdown",
   "metadata": {},
   "source": [
    "<h3> SOBBH - Redshift dependent statistic </h3>"
   ]
  },
  {
   "cell_type": "markdown",
   "metadata": {},
   "source": [
    "We may now define, the various implemented merging rates as a function of the redshift _z_ as :"
   ]
  },
  {
   "cell_type": "code",
   "execution_count": 23,
   "metadata": {},
   "outputs": [],
   "source": [
    "# Constant merging rate throughout the volume as fitted in the paper arxiv 1811.12940\n",
    "\n",
    "#def R(z):\n",
    "#    return 53.2 # +58.5 - 27.0 Gpc^-3 yr-1 Merger rate density assumed constant over the comoving volume"
   ]
  },
  {
   "cell_type": "code",
   "execution_count": 24,
   "metadata": {},
   "outputs": [],
   "source": [
    "# Function for the merging rate as described in the paper arxiv 2010.14533, the flag Red_evol will decide if adopting a merging rate the evolve with redshift (true) or not (false)\n",
    "\n",
    "if SOBBH :\n",
    "    \n",
    "    SOBBH_z = 1.e-5 # to avoid SNR divergence due to extremely close events\n",
    "    SOBBH_Zlog = 0.1 # max z value generated in log scale\n",
    "    SOBBH_Zlin = 10.0 # max z value generated in lin scale\n",
    "    SOBBH_zprec = 500 # Binning density for the redshift\n",
    "\n",
    "    SOBBH_k = 2.7 # + 1.8 - 1.9  VALID FOR REDSHIFT EVOLVING POWER LAW + PEAK MODEL MASS DISTRIBUTION, total agreement with SFR\n",
    "    SOBBH_CorrRz = (((1. + 0.2)**SOBBH_k)/(1. + ((1. + 0.2)/2.9)**(SOBBH_k + 2.9)))**(-1) # Normalization factor estimated at z = 0.2\n",
    "    \n",
    "    # Defining the value of R0, the 0 index will have the value for redshift evolution merging rate, the 1 index would have the one for constant merging rate\n",
    "\n",
    "    SOBBH_R0 = {}\n",
    "    SOBBH_R0[0] = 28.1/(year*GPc**3.)# +14.8 - 10.0 GPC⁻³ yr^⁻¹ Value of the merging rate fitted at z = 0.2\n",
    "    SOBBH_R0[1] = 23.9/(year*GPc**3.) # +14.9 - 8.6 m^-3 s^-1 Middle value fitted using a Power Law + Peak mass model and a non evolving merging rate\n",
    "\n",
    "    def SOBBH_R(z):\n",
    "        if(SOBBH_Redevol):\n",
    "            # This merging rate was interpolated by Angelo Ricciardone and Daniel Figueroa based on arxiv 2010.14533 and arxiv 1907.12562\n",
    "            return SOBBH_R0[0]*SOBBH_CorrRz*((1. + z)**SOBBH_k)/(1. + ((1. + z)/2.9)**(SOBBH_k + 2.9))\n",
    "        else:\n",
    "            return SOBBH_R0[1]\n",
    "\n",
    "# If we wish to generate just a spike of events at a certain redshift range coming from a merging rate with fixed amplitude, we fix the following        \n",
    "        \n",
    "if SOBBH_RSpike:\n",
    "    # These variables would set the location of the spike in the redshift range\n",
    "    SOBBH_Rzmin = 2.\n",
    "    SOBBH_Rzmax = 10.\n",
    "    SOBBH_zprec = 80\n",
    "    # These variables, will set the phase space to span in order to obtain the figure of merit \n",
    "    SOBBH_SpikeAmplMin = 0.\n",
    "    SOBBH_SpikeAmplMax = 10000.\n",
    "    SOBBH_SpikeAmplPrec = 500\n",
    "    # This will be the value of the amplitude of the merging rate for the constant spike\n",
    "    SOBBH_SpikeAmpl = 1.\n",
    "    \n",
    "    def SOBBH_R(z):\n",
    "        # Pass the amplitude in units of 1/[yr*GPc], tipically the value is between [1, 200]\n",
    "        return SOBBH_SpikeAmpl/(year*(GPc**3.))\n"
   ]
  },
  {
   "cell_type": "markdown",
   "metadata": {},
   "source": [
    "<h3> SOBBH - Number density of events</h3>"
   ]
  },
  {
   "cell_type": "markdown",
   "metadata": {},
   "source": [
    "We may finally define the distribution function for the number of events,in particular let's start with the function that describes the merging rate dependancy on the reference frame time: "
   ]
  },
  {
   "cell_type": "code",
   "execution_count": 25,
   "metadata": {},
   "outputs": [],
   "source": [
    "def DtrDz(z):\n",
    "    ris = 1./(H_0*(1. + z)*np.sqrt(Omega_m*((1. + z)**3.) + Omega_k*((1. + z)**2.) + Omega_lambda))\n",
    "    return ris\n",
    "        "
   ]
  },
  {
   "cell_type": "markdown",
   "metadata": {},
   "source": [
    "we can now integrate the mass and redshift dependant factor in order to get a constant that will multiply the frequency dependance of the characteristic strain function.\n",
    "After putting together all the integral dependant factors, we just have to integrate :"
   ]
  },
  {
   "cell_type": "code",
   "execution_count": 26,
   "metadata": {},
   "outputs": [],
   "source": [
    "if SOBBH :\n",
    "    def SOBBH_IntND(i):\n",
    "        \n",
    "        ris = 0.\n",
    "        \n",
    "        if ((i*10)%len(SOBBH_ranz) == 0) :\n",
    "            print('Percentage of completition : ',(i*100.)/(len(SOBBH_ranz)), '%')\n",
    "                \n",
    "        for j in range(len(SOBBH_ranm1)-1):\n",
    "            for k in range(j + 1):\n",
    "                deltas = (SOBBH_ranz[i + 1] - SOBBH_ranz[i])*(SOBBH_ranm1[j + 1] - SOBBH_ranm1[j])*(SOBBH_ranm2[k + 1] - SOBBH_ranm2[k])\n",
    "                ris += deltas*SOBBH_R(0.5*(SOBBH_ranz[i + 1] + SOBBH_ranz[i]))*\\\n",
    "                            SOBBH_MassDistr(0.5*(SOBBH_ranm1[j + 1] + SOBBH_ranm1[j]), 0.5*(SOBBH_ranm2[k + 1] + SOBBH_ranm2[k]),\\\n",
    "                                           SOBBH_m, SOBBH_M, SOBBH_alpha, SOBBH_betaq, SOBBH_deltam, \\\n",
    "                                           SOBBH_lambdapeak, SOBBH_mum, SOBBH_sigmam, SOBBH_PLnorm, SOBBH_GSnorm, \\\n",
    "                                           SOBBH_qnorm[j], SOBBH_MassPS)*\\\n",
    "                            DtrDz(0.5*(SOBBH_ranz[i + 1] + SOBBH_ranz[i]))*\\\n",
    "                            ((ChirpMass(0.5*(SOBBH_ranm1[j + 1] + SOBBH_ranm1[j]),\\\n",
    "                                        0.5*(SOBBH_ranm2[k + 1] + SOBBH_ranm2[k]))*sol_mass)**(5./3.))\\\n",
    "                            /((1. + 0.5*(SOBBH_ranz[i + 1] + SOBBH_ranz[i]))**(1./3.)) \n",
    "                        \n",
    "        return [0.5*(SOBBH_ranz[i + 1] + SOBBH_ranz[i]),ris]\n",
    "                               \n",
    "                        "
   ]
  },
  {
   "cell_type": "markdown",
   "metadata": {},
   "source": [
    "<h2> PBH mass functions </h2>"
   ]
  },
  {
   "cell_type": "markdown",
   "metadata": {},
   "source": [
    "In this section, we are going to initialize the mass functions needed to simulate the _Primordial Black Holes (PBH)_ SGWB.\n"
   ]
  },
  {
   "cell_type": "markdown",
   "metadata": {},
   "source": [
    "<h3> PBH - Merging Rates </h3>"
   ]
  },
  {
   "cell_type": "markdown",
   "metadata": {},
   "source": [
    "In order to compute a PBH perturbation analysis, we are gonna define the PBH merging rate as a fraction of the fiducial LIGO merging rate.\n",
    "We start by defining the model presented in [V. Atal et al.](https://arxiv.org/abs/2201.12218) evolving with a simple power broken power law having $k = 1.1$ before $z_*$ and $k = 1.4$ after. \n",
    "The model is as follows :"
   ]
  },
  {
   "cell_type": "code",
   "execution_count": 27,
   "metadata": {},
   "outputs": [],
   "source": [
    "if PBH_fRz :\n",
    "    \n",
    "    PBH_zmin = 3. # minimum value of the PBH merging rate\n",
    "    PBH_zmax = 10.0 # max z value generated in lin scale\n",
    "    PBH_zprec = 250 # Binning density for the redshift\n",
    "\n",
    "    # Defining the value of R0, the 0 index will have the value for redshift evolution merging rate, the 1 index would have the one for constant merging rate\n",
    "\n",
    "    PBH_R0 = 28.1/(year*GPc**3.) # +14.8 - 10.0 GPC⁻³ yr^⁻¹ Value of the merging rate fitted in at z = 0.2 in ligo population inference paper arxiv2111.03634\n",
    "    PBH_CorrfRz = 1./(1. + 0.2)**2.7 # normalization factor needed to express the value of the LIGO merging rate in z=0\n",
    "    \n",
    "    def PBH_fR(z,f):\n",
    "        if(z <= 1.):\n",
    "            PBH_k = 1.1 # Value taken from arxiv 2201.12218, valid for small z !!\n",
    "            return f*PBH_R0*PBH_CorrfRz*((1. + z)**PBH_k)\n",
    "        else:\n",
    "            PBH_k = 1.4 # Value taken from arxiv 2201.12218, valid for high z !!\n",
    "            PBH_R1_corr = f*PBH_R0*PBH_CorrfRz*(((2.)**PBH_k) - ((2.)**1.1))\n",
    "            return f*PBH_R0*PBH_CorrfRz*((1. + z)**PBH_k) - PBH_R1_corr"
   ]
  },
  {
   "cell_type": "markdown",
   "metadata": {},
   "source": [
    "alternatively, we can use the same model described by [S. S. Bavera et al](https://arxiv.org/pdf/2109.05836.pdf) for the redshift evolution of the merging rate. The amplitude of the perturbation can still be parametrized using the $fR$ approach as in the previous model :"
   ]
  },
  {
   "cell_type": "code",
   "execution_count": 28,
   "metadata": {},
   "outputs": [],
   "source": [
    "if PBH_fRt:\n",
    "    PBH_zmin = 3. # minimum value of the PBH merging rate\n",
    "    PBH_zmax = 10.0 # max z value generated in lin scale\n",
    "    PBH_zprec = 250 # Binning density for the redshift\n",
    "\n",
    "    PBH_R0 = 28.1/(year*GPc**3.) # +14.8 - 10.0 GPC⁻³ yr^⁻¹ Value of the merging rate fitted in at z = 0.2 in ligo population inference paper arxiv2111.03634\n",
    "    PBH_CorrfRz = 1./(1. + 0.2)**2.7 # normalization factor needed to express the value of the LIGO merging rate in z=0\n",
    "    \n",
    "    def PBH_fR(z,f):\n",
    "        return f*PBH_R0*PBH_CorrfRz*((t_z(z)/t_0)**(-34./37.))\n"
   ]
  },
  {
   "cell_type": "markdown",
   "metadata": {},
   "source": [
    "<h3> PBH - Gaussian Mass Distribution </h3>"
   ]
  },
  {
   "cell_type": "markdown",
   "metadata": {},
   "source": [
    "We can define a Gaussian mass distribution for PBH as :"
   ]
  },
  {
   "cell_type": "code",
   "execution_count": 29,
   "metadata": {},
   "outputs": [],
   "source": [
    "if PBH_Gaussian:\n",
    "    PBH_m = 0. # Solar Masses. Minimum value assumed for the PBH mass\n",
    "    PBH_M = 300. # Solar Masses. Maximum value assumed for the PBH mass\n",
    "    PBH_massprec = 250 # Binning density for the mass range\n",
    "    PBH_pdfmspan = np.linspace(0., 200., 100) # this span will be needed to compute the figures of merit\n",
    "    PBH_mu = 5. # mean of the Gaussian distribution\n",
    "    PBH_sigmam = 1. # sigma of the variance distribution\n",
    "    PBH_sigmamspan = [1. ,5. ,10. ,25. ,50.] # Values of sigma_m to be spanned by the simulation\n",
    "    \n",
    "    # We use the following distribution for the mass, this tend to a monochromatic mass function for small values of sigma, yet it can be used to generalize the result to a wider subset of cases\n",
    "    def PBH_MassGauss(m, PBH_mu, PBH_sigmam, PBH_GSnorm):\n",
    "        return ((1./(PBH_sigmam*np.sqrt(2.*np.pi)))*np.exp(-0.5*((m-PBH_mu)/PBH_sigmam)**2.))*1./PBH_GSnorm\n",
    "    \n",
    "    # This function is to estimate the normalization constant\n",
    "    def PBH_GaussPS(PBH_ranm1, PBH_m, PBH_M, PBH_mu, PBH_sigmam):\n",
    "\n",
    "        ris = 0.\n",
    "\n",
    "        for i in range(len(PBH_ranm1)- 1):\n",
    "            if(PBH_ranm1[i] >= PBH_m and PBH_ranm1[i] <= PBH_M):\n",
    "                    mid_m1 = 0.5*(PBH_ranm1[i + 1] + PBH_ranm1[i])\n",
    "                    ris +=  (PBH_ranm1[i + 1] - PBH_ranm1[i])*PBH_MassGauss(mid_m1, PBH_mu, PBH_sigmam, 1.)\n",
    "            \n",
    "        return ris\n"
   ]
  },
  {
   "cell_type": "markdown",
   "metadata": {},
   "source": [
    "<h3> PBH - Log-Normal Mass Distribution </h3>"
   ]
  },
  {
   "cell_type": "markdown",
   "metadata": {},
   "source": [
    "We can define a Log-Normal mass distribution for PBH as described in the paper by [S. S. Bavera et al ](https://arxiv.org/abs/2109.05836):"
   ]
  },
  {
   "cell_type": "code",
   "execution_count": 30,
   "metadata": {},
   "outputs": [],
   "source": [
    "if PBH_LogNormal:\n",
    "    # We use the following distribution for the mass\n",
    "    PBH_m = 3. # Solar Masses. Minimum value assumed for the PBH mass\n",
    "    PBH_M = 300. # Solar Masses. Maximum value assumed for the PBH mass\n",
    "    PBH_massprec = 250 # Binning density for the mass range\n",
    "    PBH_pdfmspan = np.linspace(25, 250, 100) # this span will be needed to compute the figures of merit\n",
    "    PBH_Mc = 34.54 # Solar masses, taken from the main paper by Bavera\n",
    "    PBH_sigmamn = 0.41 # Taken from the main paper by Bavera\n",
    "    PBH_sigmamnspan = [0.41 ,1. ,5. ,10. ,50.] # Values of sigma_m to be spanned by the simulation\n",
    "    \n",
    "    def PBH_MassLNorm(m, PBH_Mc, PBH_sigmamn, PBH_LNnorm):\n",
    "        return (1./(np.sqrt(2*np.pi)*PBH_sigmamn*m))*np.exp(-(np.log(m/PBH_Mc)**2)/(2*PBH_sigmamn**2))*1./PBH_LNnorm\n",
    "    \n",
    "    # This function is to estimate the normalization constant\n",
    "    def PBH_LNnormPS(PBH_ranm1, PBH_m, PBH_M, PBH_Mc, PBH_sigmamn):\n",
    "\n",
    "        ris = 0.\n",
    "\n",
    "        for i in range(len(PBH_ranm1)- 1):\n",
    "            if(PBH_ranm1[i] >= PBH_m and PBH_ranm1[i] <= PBH_M):\n",
    "                    mid_m1 = 0.5*(PBH_ranm1[i + 1] + PBH_ranm1[i])\n",
    "                    ris +=  (PBH_ranm1[i + 1] - PBH_ranm1[i])*PBH_MassLNorm(mid_m1, PBH_Mc, PBH_sigmamn, 1.)\n",
    "            \n",
    "        return ris\n"
   ]
  },
  {
   "cell_type": "markdown",
   "metadata": {},
   "source": [
    "<h3> PBH - Number density of events</h3>"
   ]
  },
  {
   "cell_type": "markdown",
   "metadata": {},
   "source": [
    "As we did for _SOBBH_, we can now integrate the mass and redshift dependant factors for _PBH_ in order to get the constant term that will multiply the frequency dependance of the characteristic strain function for the _SGWB_.\n",
    "After putting together all the integral dependant factors, we just have to integrate :"
   ]
  },
  {
   "cell_type": "code",
   "execution_count": 31,
   "metadata": {},
   "outputs": [],
   "source": [
    "if PBH :\n",
    "    def PBH_IntND(i):\n",
    "        \n",
    "        ris = 0.\n",
    "        \n",
    "        # Estimating the normalization constant for the Gaussian Case \n",
    "        \n",
    "        if PBH_Gaussian:\n",
    "            PBH_GSnorm = PBH_GaussPS(PBH_ranm1, PBH_m, PBH_M, 0.5*(PBH_pdfmspan[i + 1] + PBH_pdfmspan[i]), PBH_sigmam)\n",
    "        \n",
    "        # Estimating the normalization constant for the LogNormal case\n",
    "        \n",
    "        if PBH_LogNormal:\n",
    "            PBH_LNnorm = PBH_LNnormPS(PBH_ranm1, PBH_m, PBH_M, 0.5*(PBH_pdfmspan[i + 1] + PBH_pdfmspan[i]), PBH_sigmamn)\n",
    "        \n",
    "        if ((i*10)%len(PBH_pdfmspan) == 0) :\n",
    "            print('Percentage of completition : ',(i*100.)/(len(PBH_pdfmspan)), '%')\n",
    "        \n",
    "        for z in range(len(PBH_ranz) - 1):\n",
    "            for j in range(len(PBH_ranm1) - 1):\n",
    "                for k in range(j + 1):\n",
    "                    deltas = (PBH_ranz[z + 1] - PBH_ranz[z])*(PBH_ranm1[j + 1] - PBH_ranm1[j])*(PBH_ranm2[k + 1] - PBH_ranm2[k])\n",
    "                    \n",
    "                    if PBH_Gaussian:\n",
    "                        ris += deltas*PBH_fR(0.5*(PBH_ranz[z + 1] + PBH_ranz[z]),1.)*\\\n",
    "                               PBH_MassGauss(0.5*(PBH_ranm1[j + 1] + PBH_ranm1[j]),\\\n",
    "                               0.5*(PBH_pdfmspan[i + 1] + PBH_pdfmspan[i]),PBH_sigmam, PBH_GSnorm)*\\\n",
    "                               PBH_MassGauss(0.5*(PBH_ranm2[k + 1] + PBH_ranm2[k]),\\\n",
    "                               0.5*(PBH_pdfmspan[i + 1] + PBH_pdfmspan[i]),PBH_sigmam, PBH_GSnorm)*\\\n",
    "                               DtrDz(0.5*(PBH_ranz[z + 1] + PBH_ranz[z]))*\\\n",
    "                               ((ChirpMass(0.5*(PBH_ranm1[j + 1] + PBH_ranm1[j]),\\\n",
    "                               0.5*(PBH_ranm2[k + 1] + PBH_ranm2[k]))*sol_mass)**(5./3.))\\\n",
    "                               /((1. + 0.5*(PBH_ranz[z + 1] + PBH_ranz[z]))**(1./3.))\n",
    "                    \n",
    "                    if PBH_LogNormal:\n",
    "                        ris += deltas*PBH_fR(0.5*(PBH_ranz[z + 1] + PBH_ranz[z]),1.)*\\\n",
    "                               PBH_MassLNorm(0.5*(PBH_ranm1[j + 1] + PBH_ranm1[j]),\\\n",
    "                               0.5*(PBH_pdfmspan[i + 1] + PBH_pdfmspan[i]), PBH_sigmamn, PBH_LNnorm)*\\\n",
    "                               PBH_MassLNorm(0.5*(PBH_ranm2[k + 1] + PBH_ranm2[k]),\\\n",
    "                               0.5*(PBH_pdfmspan[i + 1] + PBH_pdfmspan[i]), PBH_sigmamn, PBH_LNnorm)*\\\n",
    "                               DtrDz(0.5*(PBH_ranz[z + 1] + PBH_ranz[z]))*\\\n",
    "                               ((ChirpMass(0.5*(PBH_ranm1[j + 1] + PBH_ranm1[j]),\\\n",
    "                               0.5*(PBH_ranm2[k + 1] + PBH_ranm2[k]))*sol_mass)**(5./3.))\\\n",
    "                               /((1. + 0.5*(PBH_ranz[z + 1] + PBH_ranz[z]))**(1./3.))                    \n",
    "                        \n",
    "        return [0.5*(PBH_pdfmspan[i + 1] + PBH_pdfmspan[i]),ris]\n",
    "                               "
   ]
  },
  {
   "cell_type": "markdown",
   "metadata": {},
   "source": [
    "<h2> Setting of the analyzed phase space </h2>"
   ]
  },
  {
   "cell_type": "markdown",
   "metadata": {},
   "source": [
    "The simulation will be spanned over the following range of variables :"
   ]
  },
  {
   "cell_type": "code",
   "execution_count": 32,
   "metadata": {},
   "outputs": [],
   "source": [
    "# Inizialization of the frequency range and spectrum\n",
    "\n",
    "ran_frq = np.linspace(frq_min, frq_max, frq_prec)\n",
    "sensitivity = get_SciRD(ran_frq)\n",
    "spectrum = ran_frq * 0.\n",
    "t_0 = Z_to_HubbleTime(1.e-12) # Can't put 0 as the logarithmic scale would fail\n",
    "\n",
    "# Definition of the fiducial level of the SGWB and the various n-sigma values at the frequency of f_star in function of the noise level\n",
    "\n",
    "SGWB_FidNoise = [\n",
    "    1.8653859774892988e-12, # Interpolated from the analytical SGWB at frequency equal to f_star\n",
    "    1.9210318549184913e-12, # Obtained by the 1-sigma confidence ellipses with respect to the fiducial noise level\n",
    "    1.95702878750183e-12, # Obtained by the 2-sigma confidence ellipses with respect to the fiducial noise level\n",
    "    1.9937002425570923e-12 # Obtained by the 3-sigma confidence ellipses with respect to the fiducial noise level\n",
    "]\n",
    "\n",
    "# Initialization of the SOBBH phase space\n",
    "\n",
    "if SOBBH:\n",
    "    \n",
    "    # Mass phase space\n",
    "    \n",
    "    SOBBH_ranm1 = np.logspace(np.log10(SOBBH_m),np.log10(SOBBH_m + 5. - (SOBBH_M - (SOBBH_m + 5))/SOBBH_massprec), int(SOBBH_massprec/10))\n",
    "    SOBBH_ranm1 = np.append(SOBBH_ranm1, np.linspace(SOBBH_m + 5., SOBBH_M,SOBBH_massprec))\n",
    "    SOBBH_ranm2 = SOBBH_ranm1\n",
    "    SOBBH_PLnorm = SOBBH_PowerLawPS(SOBBH_ranm1, SOBBH_m, SOBBH_M, SOBBH_alpha)\n",
    "    SOBBH_GSnorm = SOBBH_GaussPS(SOBBH_ranm1, SOBBH_m, SOBBH_M, SOBBH_mum, SOBBH_sigmam) \n",
    "    SOBBH_qnorm = SOBBH_P2PS(SOBBH_ranm2, SOBBH_betaq, SOBBH_m, SOBBH_deltam)\n",
    "    SOBBH_MassPS = SOBBH_ModCPS(SOBBH_ranm1, SOBBH_ranm2, SOBBH_m, SOBBH_M, SOBBH_alpha, SOBBH_betaq, SOBBH_deltam, SOBBH_lambdapeak, SOBBH_mum, SOBBH_sigmam, SOBBH_PLnorm, SOBBH_GSnorm, SOBBH_qnorm, 1.)\n",
    "\n",
    "    # Distance phase space \n",
    "    \n",
    "    if SOBBH_RSpike:\n",
    "        SOBBH_ranz = np.linspace(SOBBH_Rzmin, SOBBH_Rzmax, SOBBH_zprec)\n",
    "        SOBBH_ranampl = np.linspace(SOBBH_SpikeAmplMin, SOBBH_SpikeAmplMax, SOBBH_SpikeAmplPrec)\n",
    "\n",
    "    else:\n",
    "        SOBBH_ranz = np.logspace(np.log10(SOBBH_z), np.log10(SOBBH_Zlog), int(SOBBH_zprec/10))\n",
    "        SOBBH_ranz = np.append(SOBBH_ranz, np.linspace(SOBBH_Zlog + (SOBBH_ranz[int(SOBBH_zprec/10)-1] - SOBBH_ranz[int(SOBBH_zprec/10)-2]), SOBBH_Zlin, SOBBH_zprec))\n",
    "\n",
    "# Initialization of the PBH phase space        \n",
    "\n",
    "if PBH:\n",
    "    \n",
    "    # Mass phase space\n",
    "    \n",
    "    PBH_ranm1 = np.linspace(PBH_m, PBH_M, PBH_massprec)\n",
    "    PBH_ranm2 = PBH_ranm1\n",
    "    PBH_frange = np.linspace(0.,1.,100)\n",
    "        \n",
    "    # Redshift phase space\n",
    "    \n",
    "    if PBH_fRz :\n",
    "        PBH_ranz = np.linspace(PBH_zmin, PBH_zmax, PBH_zprec)\n",
    "        \n",
    "        \n",
    "    if PBH_fRt:\n",
    "        PBH_ranz = np.linspace(PBH_zmin, PBH_zmax, PBH_zprec)\n",
    "        t_span = Z_to_HubbleTime(PBH_ranz)\n",
    "        t_z = interpolate.interp1d(PBH_ranz, t_span)"
   ]
  },
  {
   "cell_type": "markdown",
   "metadata": {},
   "source": [
    "<h2> Main body of the simulation </h2>"
   ]
  },
  {
   "cell_type": "markdown",
   "metadata": {},
   "source": [
    "We may finally launch the pipeline to generate SGWB spectrum on every frequency bin of the frequency range. \n",
    "First of all we need to estimate the integrated factors given the simulation parameters :"
   ]
  },
  {
   "cell_type": "code",
   "execution_count": 33,
   "metadata": {
    "scrolled": true
   },
   "outputs": [],
   "source": [
    "if SOBBH :\n",
    "    \n",
    "    # Summing the SOBBH background contribution\n",
    "    print('-~-~-~-~-~-~-~-~-~-~-~-~-~-~-~-~-~-~-~-~-~-~-~-~-~-~-~-~-~-~-~-~-~-~-~-~-~-~-~')\n",
    "    d_ris = {}\n",
    "    if __name__ == '__main__':                                    \n",
    "        # start the worker processes equals to n_jobs\n",
    "        print('Now simulating the Integrated factor for SOBBH, this can take some time !')\n",
    "        pool = Pool(n_jobs)\n",
    "        d_ris = pool.map(SOBBH_IntND, range(len(SOBBH_ranz)-1))\n",
    "        SOBBH_IntFac = np.sum(d_ris)\n",
    "        pool.close()\n",
    "        pool.join()\n",
    "        \n",
    "    d_rist = np.transpose(d_ris)\n",
    "    print('-~-~-~-~-~-~-~-~-~-~-~-~-~-~-~-~-~-~-~-~-~-~-~-~-~-~-~-~-~-~-~-~-~-~-~-~-~-~-~')"
   ]
  },
  {
   "cell_type": "markdown",
   "metadata": {},
   "source": [
    "In the case of SOBBH, the result of the integration would give us the integrated factor for the SGWB at any considered bin, we can save them as :"
   ]
  },
  {
   "cell_type": "code",
   "execution_count": 34,
   "metadata": {},
   "outputs": [],
   "source": [
    "if SOBBH :\n",
    "    data = {'z' : d_rist[0], 'IntFac' : d_rist[1]}\n",
    "    SOBBH_IntFacDR = pd.DataFrame(data)\n",
    "    SOBBH_IntFacDR = SOBBH_IntFacDR.sort_values([\"z\", \"IntFac\"], ascending=True)"
   ]
  },
  {
   "cell_type": "markdown",
   "metadata": {},
   "source": [
    "If we are analyzing a _PBH_ perturbation, the integrated factor in function of the _Mass PDF_ parameter can be estimated as :"
   ]
  },
  {
   "cell_type": "code",
   "execution_count": 35,
   "metadata": {},
   "outputs": [
    {
     "name": "stdout",
     "output_type": "stream",
     "text": [
      "-~-~-~-~-~-~-~-~-~-~-~-~-~-~-~-~-~-~-~-~-~-~-~-~-~-~-~-~-~-~-~-~-~-~-~-~-~-~-~\n",
      "Now simulating the Integrated factor for PBH (part  1  of  5 ), this can take some time !\n",
      "Percentage of completition :  0.0 %\n",
      "Percentage of completition :  10.0 %\n",
      "Percentage of completition :  20.0 %\n",
      "Percentage of completition :  30.0 %\n",
      "Percentage of completition :  40.0 %\n",
      "Percentage of completition :  60.0 %\n",
      "Percentage of completition :  50.0 %\n",
      "Percentage of completition :  70.0 %\n",
      "Percentage of completition :  90.0 %\n",
      "Percentage of completition :  80.0 %\n",
      "-~-~-~-~-~-~-~-~-~-~-~-~-~-~-~-~-~-~-~-~-~-~-~-~-~-~-~-~-~-~-~-~-~-~-~-~-~-~-~\n",
      "Now simulating the Integrated factor for PBH (part  2  of  5 ), this can take some time !\n",
      "Percentage of completition :  0.0 %\n",
      "Percentage of completition :  10.0 %\n",
      "Percentage of completition :  20.0 %\n",
      "Percentage of completition :  30.0 %\n",
      "Percentage of completition :  40.0 %\n",
      "Percentage of completition :  60.0 %\n",
      "Percentage of completition :  50.0 %\n",
      "Percentage of completition :  70.0 %\n",
      "Percentage of completition :  80.0 %\n",
      "Percentage of completition :  90.0 %\n",
      "-~-~-~-~-~-~-~-~-~-~-~-~-~-~-~-~-~-~-~-~-~-~-~-~-~-~-~-~-~-~-~-~-~-~-~-~-~-~-~\n",
      "Now simulating the Integrated factor for PBH (part  3  of  5 ), this can take some time !\n",
      "Percentage of completition :  0.0 %\n",
      "Percentage of completition :  20.0 %\n",
      "Percentage of completition :  10.0 %\n",
      "Percentage of completition :  30.0 %\n",
      "Percentage of completition :  40.0 %\n",
      "Percentage of completition :  60.0 %\n",
      "Percentage of completition :  50.0 %\n",
      "Percentage of completition :  70.0 %\n",
      "Percentage of completition :  90.0 %\n",
      "Percentage of completition :  80.0 %\n",
      "-~-~-~-~-~-~-~-~-~-~-~-~-~-~-~-~-~-~-~-~-~-~-~-~-~-~-~-~-~-~-~-~-~-~-~-~-~-~-~\n",
      "Now simulating the Integrated factor for PBH (part  4  of  5 ), this can take some time !\n",
      "Percentage of completition :  0.0 %\n",
      "Percentage of completition :  10.0 %\n",
      "Percentage of completition :  20.0 %\n",
      "Percentage of completition :  30.0 %\n",
      "Percentage of completition :  40.0 %\n",
      "Percentage of completition :  60.0 %\n",
      "Percentage of completition :  50.0 %\n",
      "Percentage of completition :  70.0 %\n",
      "Percentage of completition :  90.0 %\n",
      "Percentage of completition :  80.0 %\n",
      "-~-~-~-~-~-~-~-~-~-~-~-~-~-~-~-~-~-~-~-~-~-~-~-~-~-~-~-~-~-~-~-~-~-~-~-~-~-~-~\n",
      "Now simulating the Integrated factor for PBH (part  5  of  5 ), this can take some time !\n",
      "Percentage of completition :  0.0 %\n",
      "Percentage of completition :  20.0 %\n",
      "Percentage of completition :  10.0 %\n",
      "Percentage of completition :  30.0 %\n",
      "Percentage of completition :  40.0 %\n",
      "Percentage of completition :  60.0 %\n",
      "Percentage of completition :  50.0 %\n",
      "Percentage of completition :  70.0 %\n",
      "Percentage of completition :  90.0 %\n",
      "Percentage of completition :  80.0 %\n",
      "-~-~-~-~-~-~-~-~-~-~-~-~-~-~-~-~-~-~-~-~-~-~-~-~-~-~-~-~-~-~-~-~-~-~-~-~-~-~-~\n"
     ]
    }
   ],
   "source": [
    "if PBH and PBH_LogNormal:\n",
    "    \n",
    "    #Summing on the PBH background contribution in the case of a LogNormal PDF\n",
    "    print('-~-~-~-~-~-~-~-~-~-~-~-~-~-~-~-~-~-~-~-~-~-~-~-~-~-~-~-~-~-~-~-~-~-~-~-~-~-~-~')\n",
    "    d_ris = {}\n",
    "    d_rist = {}\n",
    "    for i in range(len(PBH_sigmamnspan)):\n",
    "        if __name__ == '__main__':                                    \n",
    "            # start the worker processes equals to n_jobs\n",
    "            print('Now simulating the Integrated factor for PBH, this can take some time !')\n",
    "            pool = Pool(n_jobs)\n",
    "            d_ris[i] = pool.map(PBH_IntND, range(len(PBH_pdfmspan)-1))\n",
    "            pool.close()\n",
    "            pool.join()\n",
    "\n",
    "        d_rist[i] = np.transpose(d_ris)\n",
    "        print('-~-~-~-~-~-~-~-~-~-~-~-~-~-~-~-~-~-~-~-~-~-~-~-~-~-~-~-~-~-~-~-~-~-~-~-~-~-~-~')\n",
    "\n",
    "if PBH and PBH_Gaussian:\n",
    "    \n",
    "    #Summing on the PBH background contribution for the case of a Gaussian PDF with several sigma_m\n",
    "    d_ris = {}\n",
    "    d_rist = {}\n",
    "    for i in range(len(PBH_sigmamspan)):\n",
    "        print('-~-~-~-~-~-~-~-~-~-~-~-~-~-~-~-~-~-~-~-~-~-~-~-~-~-~-~-~-~-~-~-~-~-~-~-~-~-~-~')\n",
    "        PBH_sigmam = PBH_sigmamspan[i]\n",
    "        if __name__ == '__main__':                                    \n",
    "            # start the worker processes equals to n_jobs\n",
    "            print('Now simulating the Integrated factor for PBH (part ',i + 1,' of ',len(PBH_sigmamspan),'), this can take some time !')\n",
    "            pool = Pool(n_jobs)\n",
    "            d_ris[i] = pool.map(PBH_IntND, range(len(PBH_pdfmspan)-1))\n",
    "            pool.close()\n",
    "            pool.join()\n",
    "        d_rist[i] = np.transpose(d_ris[i])\n",
    "        \n",
    "    print('-~-~-~-~-~-~-~-~-~-~-~-~-~-~-~-~-~-~-~-~-~-~-~-~-~-~-~-~-~-~-~-~-~-~-~-~-~-~-~')"
   ]
  },
  {
   "cell_type": "markdown",
   "metadata": {},
   "source": [
    "the resulting dataset, can be reordered as :"
   ]
  },
  {
   "cell_type": "code",
   "execution_count": 36,
   "metadata": {},
   "outputs": [],
   "source": [
    "if PBH and PBH_LogNormal:\n",
    "    data = {}\n",
    "    for i in range(len(PBH_sigmamnspan)):\n",
    "        data[i] = {'PDF_p1' : d_rist[i][0], 'IntFac' : d_rist[i][1]}"
   ]
  },
  {
   "cell_type": "code",
   "execution_count": 37,
   "metadata": {},
   "outputs": [],
   "source": [
    "if PBH and PBH_Gaussian:\n",
    "    data = {}\n",
    "    for i in range(len(PBH_sigmamspan)):\n",
    "        data[i] = {'PDF_p1' : d_rist[i][0], 'IntFac' : d_rist[i][1]}"
   ]
  },
  {
   "cell_type": "markdown",
   "metadata": {},
   "source": [
    "we can save the data using :"
   ]
  },
  {
   "cell_type": "code",
   "execution_count": 38,
   "metadata": {},
   "outputs": [],
   "source": [
    "if PBH and PBH_LogNormal:\n",
    "    fname = 'IntFacLNPDF.pickle'\n",
    "if PBH and PBH_Gaussian:\n",
    "    fname = 'IntFacGSPDF.pickle'\n",
    "\n",
    "if PBH_fRt :\n",
    "    fname = 'Rt' + fname\n",
    "        \n",
    "if PBH_fRz :\n",
    "    fname = 'Rz' + fname\n",
    "    \n",
    "file_to_write = open(fname, \"wb\")\n",
    "pickle.dump(data, file_to_write)"
   ]
  },
  {
   "cell_type": "markdown",
   "metadata": {},
   "source": [
    "<h2> Estimating the figure of merit grid values </h2>"
   ]
  },
  {
   "cell_type": "markdown",
   "metadata": {},
   "source": [
    "The values estimated on the previous subsection, now need to be spanned over the phase space in order to plot the figure of merits in function of the parameters. Let's start by initializing the grid, for the case of SOBBH we have : "
   ]
  },
  {
   "cell_type": "code",
   "execution_count": 39,
   "metadata": {},
   "outputs": [],
   "source": [
    "if SOBBH:\n",
    "    X, Y = np.meshgrid(SOBBH_IntFacDR.z, SOBBH_ranampl)\n",
    "    Z = np.zeros((len(SOBBH_ranampl),len(SOBBH_IntFacDR.z)))"
   ]
  },
  {
   "cell_type": "markdown",
   "metadata": {},
   "source": [
    "while for PBH we initialize as :"
   ]
  },
  {
   "cell_type": "code",
   "execution_count": 40,
   "metadata": {},
   "outputs": [],
   "source": [
    "if PBH and PBH_LogNormal:\n",
    "\n",
    "    X = {}\n",
    "    Y = {}\n",
    "    Z = {}\n",
    "    App = {}\n",
    "    \n",
    "    for i in range(len(PBH_sigmamnspan)):\n",
    "        PBH_IntFacDP = pd.DataFrame(data[i])\n",
    "        PBH_IntFacDP = PBH_IntFacDP.sort_values([\"PDF_p1\", \"IntFac\"], ascending=True)\n",
    "        App[i] = PBH_IntFacDP['IntFac']\n",
    "        X[i], Y[i] = np.meshgrid(PBH_IntFacDP.PDF_p1, PBH_frange)\n",
    "        Z[i] = np.zeros((len(PBH_frange),len(PBH_IntFacDP.PDF_p1)))\n",
    "    \n",
    "if PBH and PBH_Gaussian:\n",
    "    \n",
    "    X = {}\n",
    "    Y = {}\n",
    "    Z = {}\n",
    "    App = {}\n",
    "    \n",
    "    for i in range(len(PBH_sigmamspan)):\n",
    "        PBH_IntFacDP = pd.DataFrame(data[i])\n",
    "        PBH_IntFacDP = PBH_IntFacDP.sort_values([\"PDF_p1\", \"IntFac\"], ascending=True)\n",
    "        App[i] = PBH_IntFacDP['IntFac']\n",
    "        X[i], Y[i] = np.meshgrid(PBH_IntFacDP.PDF_p1, PBH_frange)\n",
    "        Z[i] = np.zeros((len(PBH_frange),len(PBH_IntFacDP.PDF_p1)))"
   ]
  },
  {
   "cell_type": "markdown",
   "metadata": {},
   "source": [
    "In the two different cases, we can now fill the values of the grid as :"
   ]
  },
  {
   "cell_type": "code",
   "execution_count": 41,
   "metadata": {},
   "outputs": [],
   "source": [
    "if SOBBH:\n",
    "    for i in range(len(SOBBH_IntFacDR.z)):\n",
    "        for j in range(len(SOBBH_ranampl)):\n",
    "            Z[j][i] = (hc_to_Omega(1e-2,SOBBH_hcsqrd(1e-2, SOBBH_ranampl[j]*SOBBH_IntFacDR.IntFac[i])) + SGWB_FidNoise[0])\n",
    "\n",
    "if PBH and PBH_LogNormal:\n",
    "    for k in range(len(PBH_sigmamnspan)):\n",
    "        for i in range(len(PBH_IntFacDP.PDF_p1)):\n",
    "            for j in range(len(PBH_frange)):\n",
    "                Z[k][j][i] = (hc_to_Omega(1e-2,SOBBH_hcsqrd(1e-2, PBH_frange[j]*App[k][i])) + SGWB_FidNoise[0])\n",
    "\n",
    "if PBH and PBH_Gaussian:\n",
    "    for k in range(len(PBH_sigmamspan)):\n",
    "        for i in range(len(PBH_IntFacDP.PDF_p1)):\n",
    "            for j in range(len(PBH_frange)):\n",
    "                Z[k][j][i] = (hc_to_Omega(1e-2,SOBBH_hcsqrd(1e-2, PBH_frange[j]*App[k][i])) + SGWB_FidNoise[0])"
   ]
  },
  {
   "cell_type": "markdown",
   "metadata": {},
   "source": [
    "<h2> Plotting the results </h2>"
   ]
  },
  {
   "cell_type": "markdown",
   "metadata": {},
   "source": [
    "Given the spectrum in omega units, we can proceed to plot our results.\n",
    "However, let's run this additional script that would increase the font size for the plots :"
   ]
  },
  {
   "cell_type": "code",
   "execution_count": 42,
   "metadata": {},
   "outputs": [],
   "source": [
    "%run BigFont.py "
   ]
  },
  {
   "cell_type": "markdown",
   "metadata": {},
   "source": [
    "<h3> Plots for the SOBBH perturbation case </h3>"
   ]
  },
  {
   "cell_type": "markdown",
   "metadata": {},
   "source": [
    "In the case of a SOBBH perturbation, we can now plot the figure of merit as follows :"
   ]
  },
  {
   "cell_type": "code",
   "execution_count": 43,
   "metadata": {},
   "outputs": [],
   "source": [
    "if SOBBH:\n",
    "    fig, ax = plt.subplots(figsize = [12,8]) \n",
    "    contr1 = ax.contour(X, Y, Z, levels = SGWB_FidNoise[1:4], colors = 'navy')\n",
    "    contr2 = ax.contour(X, Y, Z, levels = SGWB_1SigNoise[1:4], colors = 'lime')\n",
    "    contr3 = ax.contour(X, Y, Z, levels = SGWB_2SigNoise[1:4], colors = 'gold')\n",
    "    contr4 = ax.contour(X, Y, Z, levels = SGWB_3SigNoise[1:4], colors = 'crimson') \n",
    "    fmt = {}\n",
    "    strs = [r'$1\\sigma$', r'$2\\sigma$', r'$3\\sigma$']\n",
    "    for l, s in zip(contr1.levels, strs):\n",
    "        fmt[l] = s\n",
    "    ax.clabel(contr1, inline=True, fmt = fmt, fontsize=10, colors = 'black')\n",
    "    lines = [contr1.collections[0], contr2.collections[0], contr3.collections[0], contr4.collections[0]]\n",
    "    labels = [r'$Fiducial \\; noise \\; level$', r'$1\\sigma \\; noise \\; perturbation$', r'$2\\sigma \\; noise \\; perturbation$', r'$3\\sigma \\; noise \\; perturbation$']\n",
    "    ax.set_xlabel(r'$z$', fontsize = 20)\n",
    "    ax.set_ylabel(r'$R_0$', fontsize = 20)\n",
    "    ax.set_title(r'$\\Delta z = 0.1$', fontsize = 20)\n",
    "    plt.legend(lines, labels, loc=2, frameon = True, fancybox = True, shadow = True)\n",
    "    fig.savefig('SOBBHSGWBFOMvsSigmas.png', dpi = 500)"
   ]
  },
  {
   "cell_type": "markdown",
   "metadata": {},
   "source": [
    "the contour line can be extrapolated from the plot using the _get_contour_verts_ function as follows :"
   ]
  },
  {
   "cell_type": "code",
   "execution_count": 44,
   "metadata": {},
   "outputs": [],
   "source": [
    "if SOBBH:\n",
    "    lines_fid = get_contour_verts(contr1)          #saving the fiducial noise level lines\n",
    "    lines_1noisig = get_contour_verts(contr2)      #saving the 1-sigma noise level lines\n",
    "    lines_2noisig = get_contour_verts(contr3)      #saving the 2-sigma noise level lines\n",
    "    lines_3noisig = get_contour_verts(contr4)      #saving the 3-sigma noise level lines\n"
   ]
  },
  {
   "cell_type": "code",
   "execution_count": 45,
   "metadata": {},
   "outputs": [],
   "source": [
    "if SOBBH:\n",
    "    # Saving the fiducial noise level lines\n",
    "\n",
    "    sig1_fid= np.transpose(np.concatenate((lines_fid[0][0], lines_fid[0][1]))).astype('float32')\n",
    "    sig2_fid = np.transpose(np.concatenate((lines_fid[1][0], lines_fid[1][1]))).astype('float32')\n",
    "    sig3_fid = np.transpose(np.concatenate((lines_fid[2][0], lines_fid[2][1]))).astype('float32')\n",
    "\n",
    "    # Saving the 1-sigma noise level lines\n",
    "\n",
    "    sig1_1signoise= np.transpose(lines_1noisig[0]).astype('float32')\n",
    "    sig2_1signoise= np.transpose(lines_1noisig[1]).astype('float32')\n",
    "    sig3_1signoise= np.transpose(lines_1noisig[2]).astype('float32')\n",
    "\n",
    "    # Saving the 2-sigma noise level lines\n",
    "\n",
    "    sig1_2signoise= np.transpose(lines_2noisig[0]).astype('float32')\n",
    "    sig2_2signoise= np.transpose(lines_2noisig[1]).astype('float32')\n",
    "    sig3_2signoise= np.transpose(lines_2noisig[2]).astype('float32')\n",
    "\n",
    "    # Saving the 3-sigma noise level lines\n",
    "\n",
    "    sig1_3signoise= np.transpose(lines_3noisig[0]).astype('float32')\n",
    "    sig2_3signoise= np.transpose(lines_3noisig[1]).astype('float32')\n",
    "    sig3_3signoise= np.transpose(lines_3noisig[2]).astype('float32')"
   ]
  },
  {
   "cell_type": "code",
   "execution_count": 46,
   "metadata": {},
   "outputs": [],
   "source": [
    "if SOBBH:\n",
    "    # The lines can be renormalized using the luminosity distance\n",
    "\n",
    "    # Renormalization of the fiducial noise level lines\n",
    "\n",
    "    dc = Z_to_Gpc((sig1_fid[0]))\n",
    "    sig1_fid[1] = sig1_fid[1]/((dc*(1. + sig1_fid[0]))**2)\n",
    "\n",
    "    dc = Z_to_Gpc((sig2_fid[0]))\n",
    "    sig2_fid[1] = sig2_fid[1]/((dc*(1. + sig2_fid[0]))**2)\n",
    "\n",
    "    dc = Z_to_Gpc((sig3_fid[0]))\n",
    "    sig3_fid[1] = sig3_fid[1]/((dc*(1. + sig3_fid[0]))**2)\n",
    "\n",
    "    # Renormalization of the 1-sigma noise level lines\n",
    "\n",
    "    dc = Z_to_Gpc((sig1_1signoise[0]))\n",
    "    sig1_1signoise[1] = sig1_1signoise[1]/((dc*(1. + sig1_1signoise[0]))**2)\n",
    "\n",
    "    dc = Z_to_Gpc((sig2_1signoise[0]))\n",
    "    sig2_1signoise[1] = sig2_1signoise[1]/((dc*(1. + sig2_1signoise[0]))**2)\n",
    "\n",
    "    dc = Z_to_Gpc((sig3_1signoise[0]))\n",
    "    sig3_1signoise[1] = sig3_1signoise[1]/((dc*(1. + sig3_1signoise[0]))**2)\n",
    "\n",
    "    # Renormalization of the 2-sigma noise level lines\n",
    "\n",
    "    dc = Z_to_Gpc((sig1_2signoise[0]))\n",
    "    sig1_2signoise[1] = sig1_2signoise[1]/((dc*(1. + sig1_2signoise[0]))**2)\n",
    "\n",
    "    dc = Z_to_Gpc((sig2_2signoise[0]))\n",
    "    sig2_2signoise[1] = sig2_2signoise[1]/((dc*(1. + sig2_2signoise[0]))**2)\n",
    "\n",
    "    dc = Z_to_Gpc((sig3_2signoise[0]))\n",
    "    sig3_2signoise[1] = sig3_2signoise[1]/((dc*(1. + sig3_2signoise[0]))**2)\n",
    "\n",
    "    # Renormalization of the 2-sigma noise level lines\n",
    "\n",
    "    dc = Z_to_Gpc((sig1_3signoise[0]))\n",
    "    sig1_3signoise[1] = sig1_3signoise[1]/((dc*(1. + sig1_3signoise[0]))**2)\n",
    "\n",
    "    dc = Z_to_Gpc((sig2_3signoise[0]))\n",
    "    sig2_3signoise[1] = sig2_3signoise[1]/((dc*(1. + sig2_3signoise[0]))**2)\n",
    "\n",
    "    dc = Z_to_Gpc((sig3_3signoise[0]))\n",
    "    sig3_3signoise[1] = sig3_3signoise[1]/((dc*(1. + sig3_3signoise[0]))**2)"
   ]
  },
  {
   "cell_type": "code",
   "execution_count": 47,
   "metadata": {},
   "outputs": [],
   "source": [
    "if SOBBH:\n",
    "    plt.figure(figsize=(12,8))\n",
    "    plt.plot(sig1_fid[0], sig1_fid[1], color = 'navy', ls = 'solid', label = r'fiducial noise level')\n",
    "    plt.plot(sig2_fid[0], sig2_fid[1], color = 'navy', ls = 'dashed')\n",
    "    plt.plot(sig3_fid[0], sig3_fid[1], color = 'navy', ls = 'dotted')\n",
    "    plt.plot(sig1_1signoise[0], sig1_1signoise[1], color = 'lime', ls = 'solid', label = r'$1\\sigma$ noise level')\n",
    "    plt.plot(sig2_1signoise[0], sig2_1signoise[1], color = 'lime', ls = 'dashed')\n",
    "    plt.plot(sig3_1signoise[0], sig3_1signoise[1], color = 'lime', ls = 'dotted')\n",
    "    plt.plot(sig1_2signoise[0], sig1_2signoise[1], color = 'gold', ls = 'solid', label = r'$2\\sigma$ noise level')\n",
    "    plt.plot(sig2_2signoise[0], sig2_2signoise[1], color = 'gold', ls = 'dashed')\n",
    "    plt.plot(sig3_2signoise[0], sig3_2signoise[1], color = 'gold', ls = 'dotted')\n",
    "    plt.plot(sig1_3signoise[0], sig1_3signoise[1], color = 'crimson', ls = 'solid', label = r'$3\\sigma$ noise level')\n",
    "    plt.plot(sig2_3signoise[0], sig2_3signoise[1], color = 'crimson', ls = 'dashed')\n",
    "    plt.plot(sig3_3signoise[0], sig3_3signoise[1], color = 'crimson', ls = 'dotted')\n",
    "    plt.xlabel(r'$z$', fontsize = 20)\n",
    "    plt.ylim(0.1,10)\n",
    "    plt.yscale('log')\n",
    "    plt.legend(loc = 1, frameon = True, fancybox = True, shadow = True, prop={'size': 16})\n",
    "    plt.ylabel('$R_0/d_L^2$', fontsize = 20)\n",
    "    plt.savefig('SOBBHDlNormalizedSGWBFOM.png',dpi=500)"
   ]
  },
  {
   "cell_type": "markdown",
   "metadata": {},
   "source": [
    "<h3> Plots for the PBH perturbation case </h3>"
   ]
  },
  {
   "cell_type": "markdown",
   "metadata": {},
   "source": [
    "In the case of a PBH perturbation, we can now plot the figure of merit as follows :"
   ]
  },
  {
   "cell_type": "code",
   "execution_count": 48,
   "metadata": {},
   "outputs": [],
   "source": [
    "if PBH and PBH_LogNormal:\n",
    "    fig, ax = plt.subplots(figsize = [12,8])\n",
    "    fname = 'SGWBFOMLNPDF.png'\n",
    "    contr = {}\n",
    "    lines = []\n",
    "    labels = []\n",
    "    col_span = ['darkmagenta', 'royalblue', 'forestgreen', 'gold', 'crimson']\n",
    "    for i in range(len(PBH_sigmamnspan)):\n",
    "        contr[i] = ax.contour(X[i], Y[i], Z[i], levels = SGWB_FidNoise[1:4], colors = col_span[i])\n",
    "        lines.append(contr[i].collections[0])\n",
    "        if i == 0:\n",
    "            labels.append(r'$Fiducial \\; \\sigma_m \\; = \\;$'+str(PBH_sigmamnspan[i]))\n",
    "        else:\n",
    "            labels.append(r'$\\sigma_m \\; = \\;$'+str(PBH_sigmamnspan[i]))\n",
    "            \n",
    "    fmt = {}\n",
    "    strs = [r'$1\\sigma$', r'$2\\sigma$', r'$3\\sigma$']\n",
    "    for l, s in zip(contr[0].levels, strs):\n",
    "        fmt[l] = s\n",
    "    else:\n",
    "        ax.clabel(contr[0], inline=True, fmt = fmt, fontsize=10, colors = 'black')\n",
    "    ax.set_ylim(1e-3,1.)\n",
    "    ax.set_yscale('log')\n",
    "    vline = ax.axvline(PBH_Mc, color = 'black')\n",
    "    lines.append(vline)\n",
    "    labels.append('Arxiv 2109.05836 $M_C$fiducial value')\n",
    "    ax.set_ylabel(r'$R_0 \\; fraction [f]$', fontsize = 20)\n",
    "    ax.set_xlabel(r'$M_c \\; [M_\\bigodot]$', fontsize = 20)\n",
    "    if PBH_fRt :\n",
    "        fname = 'Rt' + fname\n",
    "        ax.set_title(r'$R(t(z)) \\; LogNormal \\;PDF$', fontsize = 20)\n",
    "    if PBH_fRz :\n",
    "        fname = 'Rz' + fname\n",
    "        ax.set_title(r'$R(z) \\; LogNormal \\;PDF $', fontsize = 20)\n",
    "    plt.legend(lines, labels, loc=1, frameon = True, fancybox = True, shadow = True)\n",
    "    fig.savefig(fname, dpi = 500)"
   ]
  },
  {
   "cell_type": "code",
   "execution_count": 49,
   "metadata": {},
   "outputs": [
    {
     "data": {
      "image/png": "[encoded data removed]",
      "text/plain": [
       "<Figure size 864x576 with 1 Axes>"
      ]
     },
     "metadata": {},
     "output_type": "display_data"
    }
   ],
   "source": [
    "if PBH and PBH_Gaussian:\n",
    "    fig, ax = plt.subplots(figsize = [12,8])\n",
    "    fname = 'SGWBFOMGSPDF.png'\n",
    "    contr = {}\n",
    "    lines = []\n",
    "    labels = []\n",
    "    col_span = ['darkmagenta', 'royalblue', 'forestgreen', 'gold', 'crimson']\n",
    "    for i in range(len(PBH_sigmamspan)):\n",
    "        contr[i] = ax.contour(X[i], Y[i], Z[i], levels = SGWB_FidNoise[1:4], colors = col_span[i])\n",
    "        lines.append(contr[i].collections[0])\n",
    "        labels.append(r'$\\sigma_m \\; = \\;$'+str(PBH_sigmamspan[i]))\n",
    "            \n",
    "    fmt = {}\n",
    "    strs = [r'$1\\sigma$', r'$2\\sigma$', r'$3\\sigma$']\n",
    "    for l, s in zip(contr[0].levels, strs):\n",
    "        fmt[l] = s\n",
    "    else:\n",
    "        ax.clabel(contr[0], inline=True, fmt = fmt, fontsize=10, colors = 'black')\n",
    "    ax.set_ylim(1e-3,1.)\n",
    "    ax.set_yscale('log')\n",
    "    ax.set_ylabel(r'$R_0 \\; fraction [f]$', fontsize = 20)\n",
    "    ax.set_xlabel(r'$\\mu \\; [M_\\bigodot]$', fontsize = 20)\n",
    "    if PBH_fRt :\n",
    "        fname = 'Rt' + fname\n",
    "        ax.set_title(r'$R(t(z)) \\; Gaussian \\;PDF$', fontsize = 20)\n",
    "    if PBH_fRz :\n",
    "        fname = 'Rz' + fname\n",
    "        ax.set_title(r'$R(z) \\; Gaussian \\;PDF $', fontsize = 20)\n",
    "    plt.legend(lines, labels, loc=1, frameon = True, fancybox = True, shadow = True)\n",
    "    fig.savefig(fname, dpi = 500)"
   ]
  },
  {
   "cell_type": "markdown",
   "metadata": {},
   "source": [
    "<h3> Setting alarm to inform when simulation is over </h3>"
   ]
  },
  {
   "cell_type": "code",
   "execution_count": 50,
   "metadata": {},
   "outputs": [
    {
     "data": {
      "text/plain": [
       "0"
      ]
     },
     "execution_count": 50,
     "metadata": {},
     "output_type": "execute_result"
    }
   ],
   "source": [
    "file = 'Alarm-ringtone.mp3'\n",
    "os.system(\"mpg123 \"+file)"
   ]
  }
 ],
 "metadata": {
  "kernelspec": {
   "display_name": "Python 3",
   "language": "python",
   "name": "python3"
  },
  "language_info": {
   "codemirror_mode": {
    "name": "ipython",
    "version": 3
   },
   "file_extension": ".py",
   "mimetype": "text/x-python",
   "name": "python",
   "nbconvert_exporter": "python",
   "pygments_lexer": "ipython3",
   "version": "3.8.10"
  }
 },
 "nbformat": 4,
 "nbformat_minor": 2
}
